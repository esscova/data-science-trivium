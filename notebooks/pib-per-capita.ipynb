{
 "cells": [
  {
   "cell_type": "markdown",
   "id": "dbfb8289-d747-4e37-9cfa-e4e481c9e083",
   "metadata": {},
   "source": [
    "# Análise PIB per Capita\n",
    "O PIB per capita representa a média de produção e riqueza de um país distribuída por cada habitante. Este índice é frequentemente empregado para avaliar o nível de vida e o desenvolvimento econômico das nações.\n",
    "\n",
    "## Projeto\n",
    "1. Informe o primeiro valor registrado de cada país.\n",
    "2. Informe as regiões com maiores crescimentos de PIB per capita no século passado.\n",
    "3. Preecha os anos ausentes em cada país com uma estimativa de dados para a renda per capita por pessoa.\n",
    "4. Você conseguiria criar um mapa do gdp ou da obesidade no mundo ao longo dos anos?"
   ]
  },
  {
   "cell_type": "markdown",
   "id": "05ffab89-5e76-4029-89fb-56a9310211fc",
   "metadata": {},
   "source": [
    "## data loading"
   ]
  },
  {
   "cell_type": "code",
   "execution_count": 1,
   "id": "a5f6b724-7e45-4bcb-9ada-17fa2a523cd8",
   "metadata": {
    "tags": []
   },
   "outputs": [],
   "source": [
    "import pandas as pd\n",
    "\n",
    "df = pd.read_csv('../datasets/gdp.csv')"
   ]
  },
  {
   "cell_type": "markdown",
   "id": "08158453-3705-4112-bae5-cade5786d5f3",
   "metadata": {},
   "source": [
    "## data exploration & preprocessing"
   ]
  },
  {
   "cell_type": "markdown",
   "id": "f91cba8f",
   "metadata": {},
   "source": [
    "**dataset**"
   ]
  },
  {
   "cell_type": "code",
   "execution_count": 2,
   "id": "0267d0e5-8283-4d33-b67b-b7e16f335289",
   "metadata": {
    "tags": []
   },
   "outputs": [
    {
     "data": {
      "text/html": [
       "<div>\n",
       "<style scoped>\n",
       "    .dataframe tbody tr th:only-of-type {\n",
       "        vertical-align: middle;\n",
       "    }\n",
       "\n",
       "    .dataframe tbody tr th {\n",
       "        vertical-align: top;\n",
       "    }\n",
       "\n",
       "    .dataframe thead th {\n",
       "        text-align: right;\n",
       "    }\n",
       "</style>\n",
       "<table border=\"1\" class=\"dataframe\">\n",
       "  <thead>\n",
       "    <tr style=\"text-align: right;\">\n",
       "      <th></th>\n",
       "      <th>Country</th>\n",
       "      <th>Region</th>\n",
       "      <th>Year</th>\n",
       "      <th>GDP_pp</th>\n",
       "    </tr>\n",
       "  </thead>\n",
       "  <tbody>\n",
       "    <tr>\n",
       "      <th>0</th>\n",
       "      <td>Afghanistan</td>\n",
       "      <td>Middle East, North Africa, and Greater Arabia</td>\n",
       "      <td>1/1/1901</td>\n",
       "      <td>613.99</td>\n",
       "    </tr>\n",
       "    <tr>\n",
       "      <th>1</th>\n",
       "      <td>Afghanistan</td>\n",
       "      <td>Middle East, North Africa, and Greater Arabia</td>\n",
       "      <td>1/1/1906</td>\n",
       "      <td>624.04</td>\n",
       "    </tr>\n",
       "    <tr>\n",
       "      <th>2</th>\n",
       "      <td>Afghanistan</td>\n",
       "      <td>Middle East, North Africa, and Greater Arabia</td>\n",
       "      <td>1/1/1911</td>\n",
       "      <td>634.25</td>\n",
       "    </tr>\n",
       "    <tr>\n",
       "      <th>3</th>\n",
       "      <td>Afghanistan</td>\n",
       "      <td>Middle East, North Africa, and Greater Arabia</td>\n",
       "      <td>1/1/1916</td>\n",
       "      <td>647.28</td>\n",
       "    </tr>\n",
       "    <tr>\n",
       "      <th>4</th>\n",
       "      <td>Afghanistan</td>\n",
       "      <td>Middle East, North Africa, and Greater Arabia</td>\n",
       "      <td>1/1/1921</td>\n",
       "      <td>662.40</td>\n",
       "    </tr>\n",
       "  </tbody>\n",
       "</table>\n",
       "</div>"
      ],
      "text/plain": [
       "       Country                                         Region      Year  \\\n",
       "0  Afghanistan  Middle East, North Africa, and Greater Arabia  1/1/1901   \n",
       "1  Afghanistan  Middle East, North Africa, and Greater Arabia  1/1/1906   \n",
       "2  Afghanistan  Middle East, North Africa, and Greater Arabia  1/1/1911   \n",
       "3  Afghanistan  Middle East, North Africa, and Greater Arabia  1/1/1916   \n",
       "4  Afghanistan  Middle East, North Africa, and Greater Arabia  1/1/1921   \n",
       "\n",
       "    GDP_pp   \n",
       "0   613.99   \n",
       "1   624.04   \n",
       "2   634.25   \n",
       "3   647.28   \n",
       "4   662.40   "
      ]
     },
     "execution_count": 2,
     "metadata": {},
     "output_type": "execute_result"
    }
   ],
   "source": [
    "df.head()"
   ]
  },
  {
   "cell_type": "code",
   "execution_count": 3,
   "id": "ac7e7ba1-1e79-4e93-8f44-e77ff58b7197",
   "metadata": {
    "tags": []
   },
   "outputs": [
    {
     "data": {
      "text/plain": [
       "(4419, 4)"
      ]
     },
     "execution_count": 3,
     "metadata": {},
     "output_type": "execute_result"
    }
   ],
   "source": [
    "df.shape"
   ]
  },
  {
   "cell_type": "code",
   "execution_count": 4,
   "id": "2415d66c-31d4-48e8-a0ff-511a2305b9ee",
   "metadata": {
    "tags": []
   },
   "outputs": [
    {
     "name": "stdout",
     "output_type": "stream",
     "text": [
      "<class 'pandas.core.frame.DataFrame'>\n",
      "RangeIndex: 4419 entries, 0 to 4418\n",
      "Data columns (total 4 columns):\n",
      " #   Column    Non-Null Count  Dtype \n",
      "---  ------    --------------  ----- \n",
      " 0   Country   4419 non-null   object\n",
      " 1   Region    4419 non-null   object\n",
      " 2   Year      4419 non-null   object\n",
      " 3    GDP_pp   4419 non-null   object\n",
      "dtypes: object(4)\n",
      "memory usage: 138.2+ KB\n"
     ]
    }
   ],
   "source": [
    "df.info()"
   ]
  },
  {
   "cell_type": "code",
   "execution_count": 5,
   "id": "8f1ec83e-cfec-4e12-87bd-248a2553fb34",
   "metadata": {
    "tags": []
   },
   "outputs": [
    {
     "data": {
      "text/plain": [
       "Index(['Country', 'Region', 'Year', ' GDP_pp '], dtype='object')"
      ]
     },
     "execution_count": 5,
     "metadata": {},
     "output_type": "execute_result"
    }
   ],
   "source": [
    "df.columns"
   ]
  },
  {
   "cell_type": "markdown",
   "id": "24cb0ceb",
   "metadata": {},
   "source": [
    "**Country**"
   ]
  },
  {
   "cell_type": "code",
   "execution_count": 19,
   "id": "b0f1d4fa-277b-4073-b943-00181697e7da",
   "metadata": {
    "tags": []
   },
   "outputs": [
    {
     "data": {
      "text/plain": [
       "0    Afghanistan\n",
       "1    Afghanistan\n",
       "2    Afghanistan\n",
       "Name: Country, dtype: object"
      ]
     },
     "execution_count": 19,
     "metadata": {},
     "output_type": "execute_result"
    }
   ],
   "source": [
    "df['Country'].head(3)"
   ]
  },
  {
   "cell_type": "code",
   "execution_count": 7,
   "id": "a5da545a-008b-4ad4-9fd4-2841928a36dc",
   "metadata": {
    "tags": []
   },
   "outputs": [
    {
     "data": {
      "text/plain": [
       "array(['Afghanistan', 'Albania', 'Algeria', 'Andorra', 'Angola',\n",
       "       'Antigua and Barbuda', 'Argentina', 'Armenia', 'Australia',\n",
       "       'Austria', 'Azerbaijan', 'Bahamas', 'Bahrain', 'Bangladesh',\n",
       "       'Barbados', 'Belarus', 'Belgium', 'Belize', 'Benin', 'Bhutan',\n",
       "       'Bolivia', 'Bosnia and Herzegovina', 'Botswana', 'Brazil',\n",
       "       'Brunei', 'Bulgaria', 'Burkina Faso', 'Burundi', 'Cambodia',\n",
       "       'Cameroon', 'Canada', 'Cape Verde', 'Chad', 'Chile', 'China',\n",
       "       'Colombia', 'Comoros', 'Congo, Rep.', 'Costa Rica',\n",
       "       \"Cote d'Ivoire\", 'Croatia', 'Cuba', 'Cyprus', 'Czech Rep.',\n",
       "       'Denmark', 'Djibouti', 'Dominica', 'Ecuador', 'Egypt',\n",
       "       'El Salvador', 'Equatorial Guinea', 'Eritrea', 'Estonia',\n",
       "       'Ethiopia', 'Fiji', 'Finland', 'France', 'Gabon', 'Gambia',\n",
       "       'Georgia', 'Germany', 'Ghana', 'Greece', 'Greenland', 'Grenada',\n",
       "       'Guatemala', 'Guinea', 'Guinea-Bissau', 'Guyana', 'Haiti',\n",
       "       'Honduras', 'Hungary', 'Iceland', 'India', 'Indonesia', 'Iran',\n",
       "       'Iraq', 'Ireland', 'Israel', 'Italy', 'Jamaica', 'Japan', 'Jordan',\n",
       "       'Kazakhstan', 'Kenya', 'Kiribati', 'Korea, Dem. Rep.',\n",
       "       'Korea, Rep.', 'Kosovo', 'Kuwait', 'Kyrgyzstan', 'Laos', 'Latvia',\n",
       "       'Lebanon', 'Lesotho', 'Liberia', 'Libya', 'Liechtenstein',\n",
       "       'Lithuania', 'Luxembourg', 'Macedonia, FYR', 'Madagascar',\n",
       "       'Malawi', 'Malaysia', 'Maldives', 'Mali', 'Malta',\n",
       "       'Marshall Islands', 'Mauritania', 'Mauritius', 'Mexico',\n",
       "       'Micronesia, Fed. Sts.', 'Moldova', 'Monaco', 'Mongolia',\n",
       "       'Montenegro', 'Morocco', 'Mozambique', 'Myanmar', 'Namibia',\n",
       "       'Nauru', 'Nepal', 'Netherlands', 'New Zealand', 'Nicaragua',\n",
       "       'Niger', 'Nigeria', 'Norway', 'Oman', 'Pakistan', 'Palau',\n",
       "       'Panama', 'Papua New Guinea', 'Paraguay', 'Peru', 'Philippines',\n",
       "       'Poland', 'Portugal', 'Qatar', 'Romania', 'Russia', 'Rwanda',\n",
       "       'Saint Kitts and Nevis', 'Saint Lucia',\n",
       "       'Saint Vincent and the Grenadines', 'Samoa', 'San Marino',\n",
       "       'Sao Tome and Principe', 'Saudi Arabia', 'Senegal', 'Serbia',\n",
       "       'Seychelles', 'Sierra Leone', 'Singapore', 'Slovak Republic',\n",
       "       'Slovenia', 'Solomon Islands', 'Somalia', 'South Africa',\n",
       "       'South Sudan', 'Spain', 'Sri Lanka', 'Sudan', 'Suriname',\n",
       "       'Swaziland', 'Sweden', 'Switzerland', 'Syria', 'Taiwan',\n",
       "       'Tajikistan', 'Tanzania', 'Thailand', 'Timor-Leste', 'Togo',\n",
       "       'Tonga', 'Trinidad and Tobago', 'Tunisia', 'Turkey',\n",
       "       'Turkmenistan', 'Tuvalu', 'Uganda', 'Ukraine',\n",
       "       'United Arab Emirates', 'United Kingdom', 'United States',\n",
       "       'Uruguay', 'Uzbekistan', 'Vanuatu', 'Venezuela', 'Vietnam',\n",
       "       'Yemen, Rep.', 'Zambia', 'Zimbabwe'], dtype=object)"
      ]
     },
     "execution_count": 7,
     "metadata": {},
     "output_type": "execute_result"
    }
   ],
   "source": [
    "df['Country'].unique()"
   ]
  },
  {
   "cell_type": "code",
   "execution_count": 9,
   "id": "3b294a9a-6e2a-4aa8-b255-96e485fc229b",
   "metadata": {
    "tags": []
   },
   "outputs": [
    {
     "data": {
      "text/plain": [
       "193"
      ]
     },
     "execution_count": 9,
     "metadata": {},
     "output_type": "execute_result"
    }
   ],
   "source": [
    "len(df['Country'].unique())"
   ]
  },
  {
   "cell_type": "markdown",
   "id": "2e1a8a06",
   "metadata": {},
   "source": [
    "**Region**"
   ]
  },
  {
   "cell_type": "code",
   "execution_count": 20,
   "id": "1ed75bb7-b81a-4012-ba9c-173c58bfa643",
   "metadata": {
    "tags": []
   },
   "outputs": [
    {
     "data": {
      "text/plain": [
       "0    Middle East, North Africa, and Greater Arabia\n",
       "1    Middle East, North Africa, and Greater Arabia\n",
       "2    Middle East, North Africa, and Greater Arabia\n",
       "3    Middle East, North Africa, and Greater Arabia\n",
       "4    Middle East, North Africa, and Greater Arabia\n",
       "Name: Region, dtype: object"
      ]
     },
     "execution_count": 20,
     "metadata": {},
     "output_type": "execute_result"
    }
   ],
   "source": [
    "df['Region'].head()"
   ]
  },
  {
   "cell_type": "code",
   "execution_count": 16,
   "id": "4e10970d-4aa8-4bf6-95e3-5d99cb505fb7",
   "metadata": {
    "tags": []
   },
   "outputs": [
    {
     "data": {
      "text/plain": [
       "array(['Middle East, North Africa, and Greater Arabia', 'Europe',\n",
       "       'Sub-Saharan Africa', 'Central America and the Caribbean',\n",
       "       'South America', 'Australia and Oceania', 'Asia', 'North America'],\n",
       "      dtype=object)"
      ]
     },
     "execution_count": 16,
     "metadata": {},
     "output_type": "execute_result"
    }
   ],
   "source": [
    "df['Region'].unique()"
   ]
  },
  {
   "cell_type": "markdown",
   "id": "fbf85d9a",
   "metadata": {},
   "source": [
    "**Year**"
   ]
  },
  {
   "cell_type": "code",
   "execution_count": 18,
   "id": "53c70be3-2b6f-400e-ba49-fdbcbeb7fac6",
   "metadata": {
    "tags": []
   },
   "outputs": [
    {
     "data": {
      "text/plain": [
       "0    1/1/1901\n",
       "1    1/1/1906\n",
       "2    1/1/1911\n",
       "Name: Year, dtype: object"
      ]
     },
     "execution_count": 18,
     "metadata": {},
     "output_type": "execute_result"
    }
   ],
   "source": [
    "df['Year'].head(3)"
   ]
  },
  {
   "cell_type": "code",
   "execution_count": 23,
   "id": "5015ea8a-cf3c-485d-b322-4b5b758fe042",
   "metadata": {
    "tags": []
   },
   "outputs": [
    {
     "data": {
      "text/plain": [
       "array(['1/1/1901', '1/1/1906', '1/1/1911', '1/1/1916', '1/1/1921',\n",
       "       '1/1/1926', '1/1/1931', '1/1/1936', '1/1/1941', '1/1/1946',\n",
       "       '1/1/1951', '1/1/1956', '1/1/1961', '1/1/1966', '1/1/1971',\n",
       "       '1/1/1976', '1/1/1981', '1/1/1986', '1/1/1991', '1/1/1996',\n",
       "       '1/1/2001', '1/1/2006', '1/1/2011'], dtype=object)"
      ]
     },
     "execution_count": 23,
     "metadata": {},
     "output_type": "execute_result"
    }
   ],
   "source": [
    "df['Year'].unique()"
   ]
  },
  {
   "cell_type": "code",
   "execution_count": 6,
   "id": "d9d08cf9-3a31-43be-8bf3-a58e98f41738",
   "metadata": {
    "tags": []
   },
   "outputs": [
    {
     "data": {
      "text/plain": [
       "1901"
      ]
     },
     "execution_count": 6,
     "metadata": {},
     "output_type": "execute_result"
    }
   ],
   "source": [
    "# transformar para formato integer e obter apenas o ano\n",
    "\n",
    "int(df['Year'][0].split('/')[-1])"
   ]
  },
  {
   "cell_type": "code",
   "execution_count": 10,
   "id": "509341b2-9b40-4087-9440-90dcd6dbda05",
   "metadata": {
    "tags": []
   },
   "outputs": [],
   "source": [
    "df['Year'] = df['Year'].apply(lambda x: x.split('/')[-1]).astype(int)"
   ]
  },
  {
   "cell_type": "code",
   "execution_count": 33,
   "id": "5b414c17-8cbf-4e52-b283-c9f2d858cb2d",
   "metadata": {
    "tags": []
   },
   "outputs": [
    {
     "data": {
      "text/html": [
       "<div>\n",
       "<style scoped>\n",
       "    .dataframe tbody tr th:only-of-type {\n",
       "        vertical-align: middle;\n",
       "    }\n",
       "\n",
       "    .dataframe tbody tr th {\n",
       "        vertical-align: top;\n",
       "    }\n",
       "\n",
       "    .dataframe thead th {\n",
       "        text-align: right;\n",
       "    }\n",
       "</style>\n",
       "<table border=\"1\" class=\"dataframe\">\n",
       "  <thead>\n",
       "    <tr style=\"text-align: right;\">\n",
       "      <th></th>\n",
       "      <th>Country</th>\n",
       "      <th>Region</th>\n",
       "      <th>Year</th>\n",
       "      <th>GDP_pp</th>\n",
       "    </tr>\n",
       "  </thead>\n",
       "  <tbody>\n",
       "    <tr>\n",
       "      <th>0</th>\n",
       "      <td>Afghanistan</td>\n",
       "      <td>Middle East, North Africa, and Greater Arabia</td>\n",
       "      <td>1901</td>\n",
       "      <td>613.99</td>\n",
       "    </tr>\n",
       "    <tr>\n",
       "      <th>1</th>\n",
       "      <td>Afghanistan</td>\n",
       "      <td>Middle East, North Africa, and Greater Arabia</td>\n",
       "      <td>1906</td>\n",
       "      <td>624.04</td>\n",
       "    </tr>\n",
       "    <tr>\n",
       "      <th>2</th>\n",
       "      <td>Afghanistan</td>\n",
       "      <td>Middle East, North Africa, and Greater Arabia</td>\n",
       "      <td>1911</td>\n",
       "      <td>634.25</td>\n",
       "    </tr>\n",
       "    <tr>\n",
       "      <th>3</th>\n",
       "      <td>Afghanistan</td>\n",
       "      <td>Middle East, North Africa, and Greater Arabia</td>\n",
       "      <td>1916</td>\n",
       "      <td>647.28</td>\n",
       "    </tr>\n",
       "    <tr>\n",
       "      <th>4</th>\n",
       "      <td>Afghanistan</td>\n",
       "      <td>Middle East, North Africa, and Greater Arabia</td>\n",
       "      <td>1921</td>\n",
       "      <td>662.40</td>\n",
       "    </tr>\n",
       "  </tbody>\n",
       "</table>\n",
       "</div>"
      ],
      "text/plain": [
       "       Country                                         Region  Year   GDP_pp \n",
       "0  Afghanistan  Middle East, North Africa, and Greater Arabia  1901   613.99 \n",
       "1  Afghanistan  Middle East, North Africa, and Greater Arabia  1906   624.04 \n",
       "2  Afghanistan  Middle East, North Africa, and Greater Arabia  1911   634.25 \n",
       "3  Afghanistan  Middle East, North Africa, and Greater Arabia  1916   647.28 \n",
       "4  Afghanistan  Middle East, North Africa, and Greater Arabia  1921   662.40 "
      ]
     },
     "execution_count": 33,
     "metadata": {},
     "output_type": "execute_result"
    }
   ],
   "source": [
    "df.head()"
   ]
  },
  {
   "cell_type": "code",
   "execution_count": 35,
   "id": "522e0c77-8b76-4d0f-842b-04e1f6ea5993",
   "metadata": {
    "tags": []
   },
   "outputs": [
    {
     "data": {
      "text/plain": [
       "0"
      ]
     },
     "execution_count": 35,
     "metadata": {},
     "output_type": "execute_result"
    }
   ],
   "source": [
    "df['Year'].isna().sum()"
   ]
  },
  {
   "cell_type": "code",
   "execution_count": 34,
   "id": "163af2d5-eb3e-4782-a856-6e94fceaf051",
   "metadata": {
    "tags": []
   },
   "outputs": [
    {
     "data": {
      "text/plain": [
       "0     613.99 \n",
       "1     624.04 \n",
       "2     634.25 \n",
       "3     647.28 \n",
       "4     662.40 \n",
       "Name:  GDP_pp , dtype: object"
      ]
     },
     "execution_count": 34,
     "metadata": {},
     "output_type": "execute_result"
    }
   ],
   "source": [
    "df[' GDP_pp '].head()"
   ]
  },
  {
   "cell_type": "markdown",
   "id": "d7d462af",
   "metadata": {},
   "source": [
    "**GDP_pp**"
   ]
  },
  {
   "cell_type": "code",
   "execution_count": 41,
   "id": "20ce60a3-a01f-4a29-aa24-65b9992564bb",
   "metadata": {
    "tags": []
   },
   "outputs": [
    {
     "data": {
      "text/plain": [
       "array([' 613.99 ', ' 624.04 ', ' 634.25 ', ..., ' 719.96 ', ' 520.17 ',\n",
       "       ' 526.33 '], dtype=object)"
      ]
     },
     "execution_count": 41,
     "metadata": {},
     "output_type": "execute_result"
    }
   ],
   "source": [
    "df[' GDP_pp '].unique()"
   ]
  },
  {
   "cell_type": "code",
   "execution_count": 46,
   "id": "c15d75d6-7b45-4fe4-81c1-f6d9ab25a9bd",
   "metadata": {
    "tags": []
   },
   "outputs": [
    {
     "data": {
      "text/plain": [
       "' 613.99 '"
      ]
     },
     "execution_count": 46,
     "metadata": {},
     "output_type": "execute_result"
    }
   ],
   "source": [
    "df[' GDP_pp '][0]"
   ]
  },
  {
   "cell_type": "code",
   "execution_count": 45,
   "id": "aae8e382-2c96-4ee8-af0d-18d26535b127",
   "metadata": {
    "tags": []
   },
   "outputs": [
    {
     "data": {
      "text/plain": [
       " GDP_pp   \n",
       " 3,372.76     4\n",
       " 3,767.51     2\n",
       " 1,315.52     2\n",
       " 1,307.21     2\n",
       " 1,503.87     2\n",
       "             ..\n",
       " 2,252.35     1\n",
       " 2,254.52     1\n",
       " 2,256.51     1\n",
       " 2,256.63     1\n",
       " 999.96       1\n",
       "Name: count, Length: 4387, dtype: int64"
      ]
     },
     "execution_count": 45,
     "metadata": {},
     "output_type": "execute_result"
    }
   ],
   "source": [
    "df[' GDP_pp '].to_frame().value_counts()"
   ]
  },
  {
   "cell_type": "code",
   "execution_count": 48,
   "id": "ff72e094-0b46-44f2-b03f-3188af40c84e",
   "metadata": {
    "tags": []
   },
   "outputs": [
    {
     "data": {
      "text/plain": [
       "['613.99']"
      ]
     },
     "execution_count": 48,
     "metadata": {},
     "output_type": "execute_result"
    }
   ],
   "source": [
    "df[' GDP_pp '][0].split()"
   ]
  },
  {
   "cell_type": "code",
   "execution_count": 51,
   "id": "a6f84dcb-82c1-4e5d-993c-72dfb8783a96",
   "metadata": {
    "tags": []
   },
   "outputs": [
    {
     "data": {
      "text/html": [
       "<div>\n",
       "<style scoped>\n",
       "    .dataframe tbody tr th:only-of-type {\n",
       "        vertical-align: middle;\n",
       "    }\n",
       "\n",
       "    .dataframe tbody tr th {\n",
       "        vertical-align: top;\n",
       "    }\n",
       "\n",
       "    .dataframe thead th {\n",
       "        text-align: right;\n",
       "    }\n",
       "</style>\n",
       "<table border=\"1\" class=\"dataframe\">\n",
       "  <thead>\n",
       "    <tr style=\"text-align: right;\">\n",
       "      <th></th>\n",
       "      <th>Country</th>\n",
       "      <th>Region</th>\n",
       "      <th>Year</th>\n",
       "      <th>GDP_pp</th>\n",
       "    </tr>\n",
       "  </thead>\n",
       "  <tbody>\n",
       "    <tr>\n",
       "      <th>1993</th>\n",
       "      <td>Korea, Dem. Rep.</td>\n",
       "      <td>Asia</td>\n",
       "      <td>1976</td>\n",
       "      <td>3,372.76</td>\n",
       "    </tr>\n",
       "    <tr>\n",
       "      <th>1994</th>\n",
       "      <td>Korea, Dem. Rep.</td>\n",
       "      <td>Asia</td>\n",
       "      <td>1981</td>\n",
       "      <td>3,372.76</td>\n",
       "    </tr>\n",
       "    <tr>\n",
       "      <th>1995</th>\n",
       "      <td>Korea, Dem. Rep.</td>\n",
       "      <td>Asia</td>\n",
       "      <td>1986</td>\n",
       "      <td>3,372.76</td>\n",
       "    </tr>\n",
       "    <tr>\n",
       "      <th>1996</th>\n",
       "      <td>Korea, Dem. Rep.</td>\n",
       "      <td>Asia</td>\n",
       "      <td>1991</td>\n",
       "      <td>3,372.76</td>\n",
       "    </tr>\n",
       "  </tbody>\n",
       "</table>\n",
       "</div>"
      ],
      "text/plain": [
       "               Country Region  Year     GDP_pp \n",
       "1993  Korea, Dem. Rep.   Asia  1976   3,372.76 \n",
       "1994  Korea, Dem. Rep.   Asia  1981   3,372.76 \n",
       "1995  Korea, Dem. Rep.   Asia  1986   3,372.76 \n",
       "1996  Korea, Dem. Rep.   Asia  1991   3,372.76 "
      ]
     },
     "execution_count": 51,
     "metadata": {},
     "output_type": "execute_result"
    }
   ],
   "source": [
    "df[df[' GDP_pp '] == ' 3,372.76 ']"
   ]
  },
  {
   "cell_type": "code",
   "execution_count": 7,
   "id": "28321c15-8d40-4a79-9db0-2d5b94eece44",
   "metadata": {
    "tags": []
   },
   "outputs": [],
   "source": [
    "# renomear campo gdp\n",
    "df.rename(columns={' GDP_pp ': 'Gdp_pp'}, inplace=True) "
   ]
  },
  {
   "cell_type": "code",
   "execution_count": 8,
   "id": "3fe8e424-f6bd-46b4-abc7-c63e14d88fc6",
   "metadata": {
    "tags": []
   },
   "outputs": [],
   "source": [
    "# remover ',' e converter em float\n",
    "df['Gdp_pp'] = df['Gdp_pp'].apply(lambda x: x.split()[0].replace(',', '')).astype(float)"
   ]
  },
  {
   "cell_type": "code",
   "execution_count": 66,
   "id": "b1acef9a-9bfd-4ced-9ec9-9b4a6d960dff",
   "metadata": {
    "tags": []
   },
   "outputs": [
    {
     "data": {
      "text/plain": [
       "0"
      ]
     },
     "execution_count": 66,
     "metadata": {},
     "output_type": "execute_result"
    }
   ],
   "source": [
    "df['Gdp_pp'].isna().sum()"
   ]
  },
  {
   "cell_type": "code",
   "execution_count": 11,
   "id": "44585288-cc8c-42b9-a827-e6ccec12ca61",
   "metadata": {
    "tags": []
   },
   "outputs": [
    {
     "data": {
      "text/html": [
       "<div>\n",
       "<style scoped>\n",
       "    .dataframe tbody tr th:only-of-type {\n",
       "        vertical-align: middle;\n",
       "    }\n",
       "\n",
       "    .dataframe tbody tr th {\n",
       "        vertical-align: top;\n",
       "    }\n",
       "\n",
       "    .dataframe thead th {\n",
       "        text-align: right;\n",
       "    }\n",
       "</style>\n",
       "<table border=\"1\" class=\"dataframe\">\n",
       "  <thead>\n",
       "    <tr style=\"text-align: right;\">\n",
       "      <th></th>\n",
       "      <th>Country</th>\n",
       "      <th>Region</th>\n",
       "      <th>Year</th>\n",
       "      <th>Gdp_pp</th>\n",
       "    </tr>\n",
       "  </thead>\n",
       "  <tbody>\n",
       "    <tr>\n",
       "      <th>0</th>\n",
       "      <td>Afghanistan</td>\n",
       "      <td>Middle East, North Africa, and Greater Arabia</td>\n",
       "      <td>1901</td>\n",
       "      <td>613.99</td>\n",
       "    </tr>\n",
       "    <tr>\n",
       "      <th>1</th>\n",
       "      <td>Afghanistan</td>\n",
       "      <td>Middle East, North Africa, and Greater Arabia</td>\n",
       "      <td>1906</td>\n",
       "      <td>624.04</td>\n",
       "    </tr>\n",
       "    <tr>\n",
       "      <th>2</th>\n",
       "      <td>Afghanistan</td>\n",
       "      <td>Middle East, North Africa, and Greater Arabia</td>\n",
       "      <td>1911</td>\n",
       "      <td>634.25</td>\n",
       "    </tr>\n",
       "    <tr>\n",
       "      <th>3</th>\n",
       "      <td>Afghanistan</td>\n",
       "      <td>Middle East, North Africa, and Greater Arabia</td>\n",
       "      <td>1916</td>\n",
       "      <td>647.28</td>\n",
       "    </tr>\n",
       "    <tr>\n",
       "      <th>4</th>\n",
       "      <td>Afghanistan</td>\n",
       "      <td>Middle East, North Africa, and Greater Arabia</td>\n",
       "      <td>1921</td>\n",
       "      <td>662.40</td>\n",
       "    </tr>\n",
       "  </tbody>\n",
       "</table>\n",
       "</div>"
      ],
      "text/plain": [
       "       Country                                         Region  Year  Gdp_pp\n",
       "0  Afghanistan  Middle East, North Africa, and Greater Arabia  1901  613.99\n",
       "1  Afghanistan  Middle East, North Africa, and Greater Arabia  1906  624.04\n",
       "2  Afghanistan  Middle East, North Africa, and Greater Arabia  1911  634.25\n",
       "3  Afghanistan  Middle East, North Africa, and Greater Arabia  1916  647.28\n",
       "4  Afghanistan  Middle East, North Africa, and Greater Arabia  1921  662.40"
      ]
     },
     "execution_count": 11,
     "metadata": {},
     "output_type": "execute_result"
    }
   ],
   "source": [
    "df.head()"
   ]
  },
  {
   "cell_type": "code",
   "execution_count": 68,
   "id": "5c83516c-4065-41d7-a72b-2afc998df73b",
   "metadata": {
    "tags": []
   },
   "outputs": [
    {
     "name": "stdout",
     "output_type": "stream",
     "text": [
      "<class 'pandas.core.frame.DataFrame'>\n",
      "RangeIndex: 4419 entries, 0 to 4418\n",
      "Data columns (total 4 columns):\n",
      " #   Column   Non-Null Count  Dtype  \n",
      "---  ------   --------------  -----  \n",
      " 0   Country  4419 non-null   object \n",
      " 1   Region   4419 non-null   object \n",
      " 2   Year     4419 non-null   int64  \n",
      " 3   Gdp_pp   4419 non-null   float64\n",
      "dtypes: float64(1), int64(1), object(2)\n",
      "memory usage: 138.2+ KB\n"
     ]
    }
   ],
   "source": [
    "df.info()"
   ]
  },
  {
   "cell_type": "code",
   "execution_count": 69,
   "id": "6aa22cce-bea0-4241-8644-ddc394f72cf3",
   "metadata": {
    "tags": []
   },
   "outputs": [
    {
     "data": {
      "text/html": [
       "<div>\n",
       "<style scoped>\n",
       "    .dataframe tbody tr th:only-of-type {\n",
       "        vertical-align: middle;\n",
       "    }\n",
       "\n",
       "    .dataframe tbody tr th {\n",
       "        vertical-align: top;\n",
       "    }\n",
       "\n",
       "    .dataframe thead th {\n",
       "        text-align: right;\n",
       "    }\n",
       "</style>\n",
       "<table border=\"1\" class=\"dataframe\">\n",
       "  <thead>\n",
       "    <tr style=\"text-align: right;\">\n",
       "      <th></th>\n",
       "      <th>Year</th>\n",
       "      <th>Gdp_pp</th>\n",
       "    </tr>\n",
       "  </thead>\n",
       "  <tbody>\n",
       "    <tr>\n",
       "      <th>count</th>\n",
       "      <td>4419.000000</td>\n",
       "      <td>4419.000000</td>\n",
       "    </tr>\n",
       "    <tr>\n",
       "      <th>mean</th>\n",
       "      <td>1956.027155</td>\n",
       "      <td>5551.033745</td>\n",
       "    </tr>\n",
       "    <tr>\n",
       "      <th>std</th>\n",
       "      <td>33.175278</td>\n",
       "      <td>9300.076227</td>\n",
       "    </tr>\n",
       "    <tr>\n",
       "      <th>min</th>\n",
       "      <td>1901.000000</td>\n",
       "      <td>285.150000</td>\n",
       "    </tr>\n",
       "    <tr>\n",
       "      <th>25%</th>\n",
       "      <td>1926.000000</td>\n",
       "      <td>1004.510000</td>\n",
       "    </tr>\n",
       "    <tr>\n",
       "      <th>50%</th>\n",
       "      <td>1956.000000</td>\n",
       "      <td>2201.460000</td>\n",
       "    </tr>\n",
       "    <tr>\n",
       "      <th>75%</th>\n",
       "      <td>1986.000000</td>\n",
       "      <td>5699.825000</td>\n",
       "    </tr>\n",
       "    <tr>\n",
       "      <th>max</th>\n",
       "      <td>2011.000000</td>\n",
       "      <td>118681.300000</td>\n",
       "    </tr>\n",
       "  </tbody>\n",
       "</table>\n",
       "</div>"
      ],
      "text/plain": [
       "              Year         Gdp_pp\n",
       "count  4419.000000    4419.000000\n",
       "mean   1956.027155    5551.033745\n",
       "std      33.175278    9300.076227\n",
       "min    1901.000000     285.150000\n",
       "25%    1926.000000    1004.510000\n",
       "50%    1956.000000    2201.460000\n",
       "75%    1986.000000    5699.825000\n",
       "max    2011.000000  118681.300000"
      ]
     },
     "execution_count": 69,
     "metadata": {},
     "output_type": "execute_result"
    }
   ],
   "source": [
    "df.describe()"
   ]
  },
  {
   "cell_type": "markdown",
   "id": "eef7cbd5-3bf3-4eab-a4a9-4713d92b931e",
   "metadata": {
    "tags": []
   },
   "source": [
    "## insight extraction"
   ]
  },
  {
   "cell_type": "code",
   "execution_count": 71,
   "id": "444ac105-b4ee-44d4-a116-91eca5899d19",
   "metadata": {
    "tags": []
   },
   "outputs": [
    {
     "data": {
      "text/html": [
       "<div>\n",
       "<style scoped>\n",
       "    .dataframe tbody tr th:only-of-type {\n",
       "        vertical-align: middle;\n",
       "    }\n",
       "\n",
       "    .dataframe tbody tr th {\n",
       "        vertical-align: top;\n",
       "    }\n",
       "\n",
       "    .dataframe thead th {\n",
       "        text-align: right;\n",
       "    }\n",
       "</style>\n",
       "<table border=\"1\" class=\"dataframe\">\n",
       "  <thead>\n",
       "    <tr style=\"text-align: right;\">\n",
       "      <th></th>\n",
       "      <th>Country</th>\n",
       "      <th>Region</th>\n",
       "      <th>Year</th>\n",
       "      <th>Gdp_pp</th>\n",
       "    </tr>\n",
       "  </thead>\n",
       "  <tbody>\n",
       "    <tr>\n",
       "      <th>0</th>\n",
       "      <td>Afghanistan</td>\n",
       "      <td>Middle East, North Africa, and Greater Arabia</td>\n",
       "      <td>1901</td>\n",
       "      <td>613.99</td>\n",
       "    </tr>\n",
       "    <tr>\n",
       "      <th>1</th>\n",
       "      <td>Afghanistan</td>\n",
       "      <td>Middle East, North Africa, and Greater Arabia</td>\n",
       "      <td>1906</td>\n",
       "      <td>624.04</td>\n",
       "    </tr>\n",
       "    <tr>\n",
       "      <th>2</th>\n",
       "      <td>Afghanistan</td>\n",
       "      <td>Middle East, North Africa, and Greater Arabia</td>\n",
       "      <td>1911</td>\n",
       "      <td>634.25</td>\n",
       "    </tr>\n",
       "    <tr>\n",
       "      <th>3</th>\n",
       "      <td>Afghanistan</td>\n",
       "      <td>Middle East, North Africa, and Greater Arabia</td>\n",
       "      <td>1916</td>\n",
       "      <td>647.28</td>\n",
       "    </tr>\n",
       "    <tr>\n",
       "      <th>4</th>\n",
       "      <td>Afghanistan</td>\n",
       "      <td>Middle East, North Africa, and Greater Arabia</td>\n",
       "      <td>1921</td>\n",
       "      <td>662.40</td>\n",
       "    </tr>\n",
       "  </tbody>\n",
       "</table>\n",
       "</div>"
      ],
      "text/plain": [
       "       Country                                         Region  Year  Gdp_pp\n",
       "0  Afghanistan  Middle East, North Africa, and Greater Arabia  1901  613.99\n",
       "1  Afghanistan  Middle East, North Africa, and Greater Arabia  1906  624.04\n",
       "2  Afghanistan  Middle East, North Africa, and Greater Arabia  1911  634.25\n",
       "3  Afghanistan  Middle East, North Africa, and Greater Arabia  1916  647.28\n",
       "4  Afghanistan  Middle East, North Africa, and Greater Arabia  1921  662.40"
      ]
     },
     "execution_count": 71,
     "metadata": {},
     "output_type": "execute_result"
    }
   ],
   "source": [
    "df.head()"
   ]
  },
  {
   "cell_type": "markdown",
   "id": "76c4985c-c749-4b84-b15a-99f58ff30318",
   "metadata": {
    "jp-MarkdownHeadingCollapsed": true,
    "tags": []
   },
   "source": [
    "### 1. Informe o ano do primeiro valor registrado de cada país."
   ]
  },
  {
   "cell_type": "code",
   "execution_count": 90,
   "id": "bb0929d6-0fd9-4e89-8b37-cd8606c71f12",
   "metadata": {
    "tags": []
   },
   "outputs": [
    {
     "data": {
      "text/plain": [
       "Country\n",
       "Afghanistan    1901\n",
       "Albania        1901\n",
       "Algeria        1901\n",
       "Andorra        1901\n",
       "Angola         1901\n",
       "               ... \n",
       "Venezuela      1901\n",
       "Vietnam        1901\n",
       "Yemen, Rep.    1901\n",
       "Zambia         1901\n",
       "Zimbabwe       1901\n",
       "Name: Year, Length: 193, dtype: int64"
      ]
     },
     "execution_count": 90,
     "metadata": {},
     "output_type": "execute_result"
    }
   ],
   "source": [
    "# agrupamento de pais e dados do campo year\n",
    "df.groupby('Country')['Year'].first()"
   ]
  },
  {
   "cell_type": "code",
   "execution_count": 92,
   "id": "b4981dc6-e13c-491e-b199-c0af1227eba1",
   "metadata": {
    "tags": []
   },
   "outputs": [
    {
     "data": {
      "text/plain": [
       "Year\n",
       "1901    192\n",
       "1991      1\n",
       "Name: count, dtype: int64"
      ]
     },
     "execution_count": 92,
     "metadata": {},
     "output_type": "execute_result"
    }
   ],
   "source": [
    "# um pais não existia em 1901\n",
    "\n",
    "df.groupby('Country')['Year'].first().value_counts()"
   ]
  },
  {
   "cell_type": "code",
   "execution_count": 126,
   "id": "699dc263-7952-45b6-ba6a-8a0fca97df45",
   "metadata": {
    "tags": []
   },
   "outputs": [
    {
     "data": {
      "text/plain": [
       "Country\n",
       "Kosovo    1991\n",
       "Name: Year, dtype: int64"
      ]
     },
     "execution_count": 126,
     "metadata": {},
     "output_type": "execute_result"
    }
   ],
   "source": [
    "df.groupby('Country')['Year'].first()[df.groupby('Country')['Year'].first() == 1991]"
   ]
  },
  {
   "cell_type": "markdown",
   "id": "994253a2-665b-429e-9da0-0448492566dc",
   "metadata": {
    "tags": []
   },
   "source": [
    "### 2. Informe as regiões com maiores crescimentos percentuais de PIB per capita no século passado."
   ]
  },
  {
   "cell_type": "code",
   "execution_count": 44,
   "id": "de2249cc-a6f8-4f40-9fb5-c7ee00c68288",
   "metadata": {
    "tags": []
   },
   "outputs": [
    {
     "data": {
      "text/plain": [
       "Region\n",
       "Asia                                              900.756296\n",
       "Australia and Oceania                            1492.222000\n",
       "Central America and the Caribbean                1460.596842\n",
       "Europe                                           2583.788478\n",
       "Middle East, North Africa, and Greater Arabia    1164.350000\n",
       "North America                                    3676.015000\n",
       "South America                                    1638.665833\n",
       "Sub-Saharan Africa                                650.119783\n",
       "Name: Gdp_pp, dtype: float64"
      ]
     },
     "execution_count": 44,
     "metadata": {},
     "output_type": "execute_result"
    }
   ],
   "source": [
    "# sec xx: 1 de jan. de 1901 – 31 de dez. de 2000'\n",
    "\n",
    "# inicio do seculo\n",
    "df.query('Year == 1901').groupby('Region')['Gdp_pp'].mean()"
   ]
  },
  {
   "cell_type": "code",
   "execution_count": 45,
   "id": "13d5bd1f",
   "metadata": {},
   "outputs": [
    {
     "data": {
      "text/plain": [
       "Series([], Name: Gdp_pp, dtype: float64)"
      ]
     },
     "execution_count": 45,
     "metadata": {},
     "output_type": "execute_result"
    }
   ],
   "source": [
    "# fim do seculo\n",
    "df.query('Year == 2000').groupby('Region')['Gdp_pp'].mean()"
   ]
  },
  {
   "cell_type": "code",
   "execution_count": 46,
   "id": "f863fc21",
   "metadata": {},
   "outputs": [
    {
     "data": {
      "text/plain": [
       "1996"
      ]
     },
     "execution_count": 46,
     "metadata": {},
     "output_type": "execute_result"
    }
   ],
   "source": [
    "df.query('Year <= 2000')['Year'].max()"
   ]
  },
  {
   "cell_type": "code",
   "execution_count": 52,
   "id": "7feddaf3",
   "metadata": {},
   "outputs": [
    {
     "data": {
      "text/plain": [
       "Region\n",
       "Middle East, North Africa, and Greater Arabia    857.215950\n",
       "Asia                                             711.761516\n",
       "Europe                                           594.046167\n",
       "North America                                    589.760175\n",
       "Central America and the Caribbean                406.426789\n",
       "Australia and Oceania                            396.075383\n",
       "South America                                    312.123735\n",
       "Sub-Saharan Africa                               248.633780\n",
       "Name: Gdp_pp, dtype: float64"
      ]
     },
     "execution_count": 52,
     "metadata": {},
     "output_type": "execute_result"
    }
   ],
   "source": [
    "# crescimentos medios percentuais no seculo XX\n",
    "(\n",
    "    (\n",
    "        df.query('Year == 1996').groupby('Region')['Gdp_pp'].mean() /\n",
    "        df.query('Year == 1901').groupby('Region')['Gdp_pp'].mean() -1\n",
    "    ) \n",
    "    \n",
    ").sort_values(ascending=False)*100"
   ]
  },
  {
   "cell_type": "markdown",
   "id": "624c3979-3733-47d8-85da-3f77f090764c",
   "metadata": {
    "tags": []
   },
   "source": [
    "### 3. Preecha os anos ausentes em cada país com uma estimativa de dados para a renda per capita por pessoa."
   ]
  },
  {
   "cell_type": "code",
   "execution_count": 248,
   "id": "ba1f8478",
   "metadata": {},
   "outputs": [],
   "source": [
    "import numpy as np"
   ]
  },
  {
   "cell_type": "code",
   "execution_count": 249,
   "id": "5aa1f163",
   "metadata": {},
   "outputs": [
    {
     "data": {
      "text/plain": [
       "array([1901, 1906, 1911, 1916, 1921, 1926, 1931, 1936, 1941, 1946, 1951,\n",
       "       1956, 1961, 1966, 1971, 1976, 1981, 1986, 1991, 1996, 2001, 2006,\n",
       "       2011])"
      ]
     },
     "execution_count": 249,
     "metadata": {},
     "output_type": "execute_result"
    }
   ],
   "source": [
    "# anos que estão no dataset\n",
    "df['Year'].unique()"
   ]
  },
  {
   "cell_type": "code",
   "execution_count": 251,
   "id": "4fcb88f4-f2a5-41ec-b7e5-afd3d4eb15a7",
   "metadata": {
    "tags": []
   },
   "outputs": [
    {
     "data": {
      "text/plain": [
       "array([1901, 1902, 1903, 1904, 1905, 1906, 1907, 1908, 1909, 1910, 1911,\n",
       "       1912, 1913, 1914, 1915, 1916, 1917, 1918, 1919, 1920, 1921, 1922,\n",
       "       1923, 1924, 1925, 1926, 1927, 1928, 1929, 1930, 1931, 1932, 1933,\n",
       "       1934, 1935, 1936, 1937, 1938, 1939, 1940, 1941, 1942, 1943, 1944,\n",
       "       1945, 1946, 1947, 1948, 1949, 1950, 1951, 1952, 1953, 1954, 1955,\n",
       "       1956, 1957, 1958, 1959, 1960, 1961, 1962, 1963, 1964, 1965, 1966,\n",
       "       1967, 1968, 1969, 1970, 1971, 1972, 1973, 1974, 1975, 1976, 1977,\n",
       "       1978, 1979, 1980, 1981, 1982, 1983, 1984, 1985, 1986, 1987, 1988,\n",
       "       1989, 1990, 1991, 1992, 1993, 1994, 1995, 1996, 1997, 1998, 1999,\n",
       "       2000, 2001, 2002, 2003, 2004, 2005, 2006, 2007, 2008, 2009, 2010,\n",
       "       2011])"
      ]
     },
     "execution_count": 251,
     "metadata": {},
     "output_type": "execute_result"
    }
   ],
   "source": [
    "# range com todos anos esperados\n",
    "np.arange (df['Year'].min(), df['Year'].max()+1)"
   ]
  },
  {
   "cell_type": "code",
   "execution_count": 262,
   "id": "1a1f4c23",
   "metadata": {},
   "outputs": [
    {
     "data": {
      "text/plain": [
       "array([1902, 1903, 1904, 1905, 1907, 1908, 1909, 1910, 1912, 1913, 1914,\n",
       "       1915, 1917, 1918, 1919, 1920, 1922, 1923, 1924, 1925, 1927, 1928,\n",
       "       1929, 1930, 1932, 1933, 1934, 1935, 1937, 1938, 1939, 1940, 1942,\n",
       "       1943, 1944, 1945, 1947, 1948, 1949, 1950, 1952, 1953, 1954, 1955,\n",
       "       1957, 1958, 1959, 1960, 1962, 1963, 1964, 1965, 1967, 1968, 1969,\n",
       "       1970, 1972, 1973, 1974, 1975, 1977, 1978, 1979, 1980, 1982, 1983,\n",
       "       1984, 1985, 1987, 1988, 1989, 1990, 1992, 1993, 1994, 1995, 1997,\n",
       "       1998, 1999, 2000, 2002, 2003, 2004, 2005, 2007, 2008, 2009, 2010])"
      ]
     },
     "execution_count": 262,
     "metadata": {},
     "output_type": "execute_result"
    }
   ],
   "source": [
    "# anos que deverão ser incluídos\n",
    "np.array([x for x in list(range(1901,2012)) if x not in df['Year'].unique()])"
   ]
  },
  {
   "cell_type": "code",
   "execution_count": 268,
   "id": "bafd9e73",
   "metadata": {},
   "outputs": [
    {
     "data": {
      "text/html": [
       "<div>\n",
       "<style scoped>\n",
       "    .dataframe tbody tr th:only-of-type {\n",
       "        vertical-align: middle;\n",
       "    }\n",
       "\n",
       "    .dataframe tbody tr th {\n",
       "        vertical-align: top;\n",
       "    }\n",
       "\n",
       "    .dataframe thead th {\n",
       "        text-align: right;\n",
       "    }\n",
       "</style>\n",
       "<table border=\"1\" class=\"dataframe\">\n",
       "  <thead>\n",
       "    <tr style=\"text-align: right;\">\n",
       "      <th></th>\n",
       "      <th>Country</th>\n",
       "      <th>Year</th>\n",
       "      <th>Region</th>\n",
       "      <th>Gdp_pp</th>\n",
       "    </tr>\n",
       "  </thead>\n",
       "  <tbody>\n",
       "    <tr>\n",
       "      <th>0</th>\n",
       "      <td>Afghanistan</td>\n",
       "      <td>1901</td>\n",
       "      <td>Middle East, North Africa, and Greater Arabia</td>\n",
       "      <td>613.99</td>\n",
       "    </tr>\n",
       "    <tr>\n",
       "      <th>1</th>\n",
       "      <td>Afghanistan</td>\n",
       "      <td>1902</td>\n",
       "      <td>NaN</td>\n",
       "      <td>NaN</td>\n",
       "    </tr>\n",
       "    <tr>\n",
       "      <th>2</th>\n",
       "      <td>Afghanistan</td>\n",
       "      <td>1903</td>\n",
       "      <td>NaN</td>\n",
       "      <td>NaN</td>\n",
       "    </tr>\n",
       "    <tr>\n",
       "      <th>3</th>\n",
       "      <td>Afghanistan</td>\n",
       "      <td>1904</td>\n",
       "      <td>NaN</td>\n",
       "      <td>NaN</td>\n",
       "    </tr>\n",
       "    <tr>\n",
       "      <th>4</th>\n",
       "      <td>Afghanistan</td>\n",
       "      <td>1905</td>\n",
       "      <td>NaN</td>\n",
       "      <td>NaN</td>\n",
       "    </tr>\n",
       "    <tr>\n",
       "      <th>...</th>\n",
       "      <td>...</td>\n",
       "      <td>...</td>\n",
       "      <td>...</td>\n",
       "      <td>...</td>\n",
       "    </tr>\n",
       "    <tr>\n",
       "      <th>21418</th>\n",
       "      <td>Zimbabwe</td>\n",
       "      <td>2007</td>\n",
       "      <td>NaN</td>\n",
       "      <td>NaN</td>\n",
       "    </tr>\n",
       "    <tr>\n",
       "      <th>21419</th>\n",
       "      <td>Zimbabwe</td>\n",
       "      <td>2008</td>\n",
       "      <td>NaN</td>\n",
       "      <td>NaN</td>\n",
       "    </tr>\n",
       "    <tr>\n",
       "      <th>21420</th>\n",
       "      <td>Zimbabwe</td>\n",
       "      <td>2009</td>\n",
       "      <td>NaN</td>\n",
       "      <td>NaN</td>\n",
       "    </tr>\n",
       "    <tr>\n",
       "      <th>21421</th>\n",
       "      <td>Zimbabwe</td>\n",
       "      <td>2010</td>\n",
       "      <td>NaN</td>\n",
       "      <td>NaN</td>\n",
       "    </tr>\n",
       "    <tr>\n",
       "      <th>21422</th>\n",
       "      <td>Zimbabwe</td>\n",
       "      <td>2011</td>\n",
       "      <td>Sub-Saharan Africa</td>\n",
       "      <td>526.33</td>\n",
       "    </tr>\n",
       "  </tbody>\n",
       "</table>\n",
       "<p>21423 rows × 4 columns</p>\n",
       "</div>"
      ],
      "text/plain": [
       "           Country  Year                                         Region  \\\n",
       "0      Afghanistan  1901  Middle East, North Africa, and Greater Arabia   \n",
       "1      Afghanistan  1902                                            NaN   \n",
       "2      Afghanistan  1903                                            NaN   \n",
       "3      Afghanistan  1904                                            NaN   \n",
       "4      Afghanistan  1905                                            NaN   \n",
       "...            ...   ...                                            ...   \n",
       "21418     Zimbabwe  2007                                            NaN   \n",
       "21419     Zimbabwe  2008                                            NaN   \n",
       "21420     Zimbabwe  2009                                            NaN   \n",
       "21421     Zimbabwe  2010                                            NaN   \n",
       "21422     Zimbabwe  2011                             Sub-Saharan Africa   \n",
       "\n",
       "       Gdp_pp  \n",
       "0      613.99  \n",
       "1         NaN  \n",
       "2         NaN  \n",
       "3         NaN  \n",
       "4         NaN  \n",
       "...       ...  \n",
       "21418     NaN  \n",
       "21419     NaN  \n",
       "21420     NaN  \n",
       "21421     NaN  \n",
       "21422  526.33  \n",
       "\n",
       "[21423 rows x 4 columns]"
      ]
     },
     "execution_count": 268,
     "metadata": {},
     "output_type": "execute_result"
    }
   ],
   "source": [
    "# atribuicoes\n",
    "\n",
    "years = list(range(1901,2012))\n",
    "countries = df['Country'].unique()\n",
    "\n",
    "multiIndex = pd.MultiIndex.from_product([countries, years], names=['Country','Year']) # indexacao\n",
    "\n",
    "df_multiIndex = pd.DataFrame(index=multiIndex).reset_index() # dataframe para merge\n",
    "\n",
    "df_com_estimativas = pd.merge(df_multiIndex, df, on=['Country', 'Year'], how='left') # merge\n",
    "\n",
    "df_com_estimativas\n"
   ]
  },
  {
   "cell_type": "code",
   "execution_count": 318,
   "id": "605c6b1f",
   "metadata": {},
   "outputs": [],
   "source": [
    "# interpolando dados da renda per capita \n",
    "df_com_estimativas['Gdp_pp'] = df_com_estimativas.groupby('Country')['Gdp_pp'].transform(lambda x: x.interpolate(method='linear'))\n",
    "\n",
    "# mapeando regioes aos novos registros\n",
    "regioes = df.groupby('Country')['Region'].unique().to_dict()\n",
    "df_com_estimativas['Region'] = df_com_estimativas['Country'].map(regioes)\n",
    "df_com_estimativas['Region'] = df_com_estimativas['Region'].apply(lambda x: str(x).replace('[', '').replace(']', '').strip(\"''\"))"
   ]
  },
  {
   "cell_type": "code",
   "execution_count": 320,
   "id": "8de584fc",
   "metadata": {},
   "outputs": [
    {
     "data": {
      "text/html": [
       "<div>\n",
       "<style scoped>\n",
       "    .dataframe tbody tr th:only-of-type {\n",
       "        vertical-align: middle;\n",
       "    }\n",
       "\n",
       "    .dataframe tbody tr th {\n",
       "        vertical-align: top;\n",
       "    }\n",
       "\n",
       "    .dataframe thead th {\n",
       "        text-align: right;\n",
       "    }\n",
       "</style>\n",
       "<table border=\"1\" class=\"dataframe\">\n",
       "  <thead>\n",
       "    <tr style=\"text-align: right;\">\n",
       "      <th></th>\n",
       "      <th>Country</th>\n",
       "      <th>Year</th>\n",
       "      <th>Region</th>\n",
       "      <th>Gdp_pp</th>\n",
       "    </tr>\n",
       "  </thead>\n",
       "  <tbody>\n",
       "    <tr>\n",
       "      <th>0</th>\n",
       "      <td>Afghanistan</td>\n",
       "      <td>1901</td>\n",
       "      <td>Middle East, North Africa, and Greater Arabia</td>\n",
       "      <td>613.990</td>\n",
       "    </tr>\n",
       "    <tr>\n",
       "      <th>1</th>\n",
       "      <td>Afghanistan</td>\n",
       "      <td>1902</td>\n",
       "      <td>Middle East, North Africa, and Greater Arabia</td>\n",
       "      <td>616.000</td>\n",
       "    </tr>\n",
       "    <tr>\n",
       "      <th>2</th>\n",
       "      <td>Afghanistan</td>\n",
       "      <td>1903</td>\n",
       "      <td>Middle East, North Africa, and Greater Arabia</td>\n",
       "      <td>618.010</td>\n",
       "    </tr>\n",
       "    <tr>\n",
       "      <th>3</th>\n",
       "      <td>Afghanistan</td>\n",
       "      <td>1904</td>\n",
       "      <td>Middle East, North Africa, and Greater Arabia</td>\n",
       "      <td>620.020</td>\n",
       "    </tr>\n",
       "    <tr>\n",
       "      <th>4</th>\n",
       "      <td>Afghanistan</td>\n",
       "      <td>1905</td>\n",
       "      <td>Middle East, North Africa, and Greater Arabia</td>\n",
       "      <td>622.030</td>\n",
       "    </tr>\n",
       "    <tr>\n",
       "      <th>...</th>\n",
       "      <td>...</td>\n",
       "      <td>...</td>\n",
       "      <td>...</td>\n",
       "      <td>...</td>\n",
       "    </tr>\n",
       "    <tr>\n",
       "      <th>21418</th>\n",
       "      <td>Zimbabwe</td>\n",
       "      <td>2007</td>\n",
       "      <td>Sub-Saharan Africa</td>\n",
       "      <td>521.402</td>\n",
       "    </tr>\n",
       "    <tr>\n",
       "      <th>21419</th>\n",
       "      <td>Zimbabwe</td>\n",
       "      <td>2008</td>\n",
       "      <td>Sub-Saharan Africa</td>\n",
       "      <td>522.634</td>\n",
       "    </tr>\n",
       "    <tr>\n",
       "      <th>21420</th>\n",
       "      <td>Zimbabwe</td>\n",
       "      <td>2009</td>\n",
       "      <td>Sub-Saharan Africa</td>\n",
       "      <td>523.866</td>\n",
       "    </tr>\n",
       "    <tr>\n",
       "      <th>21421</th>\n",
       "      <td>Zimbabwe</td>\n",
       "      <td>2010</td>\n",
       "      <td>Sub-Saharan Africa</td>\n",
       "      <td>525.098</td>\n",
       "    </tr>\n",
       "    <tr>\n",
       "      <th>21422</th>\n",
       "      <td>Zimbabwe</td>\n",
       "      <td>2011</td>\n",
       "      <td>Sub-Saharan Africa</td>\n",
       "      <td>526.330</td>\n",
       "    </tr>\n",
       "  </tbody>\n",
       "</table>\n",
       "<p>21423 rows × 4 columns</p>\n",
       "</div>"
      ],
      "text/plain": [
       "           Country  Year                                         Region  \\\n",
       "0      Afghanistan  1901  Middle East, North Africa, and Greater Arabia   \n",
       "1      Afghanistan  1902  Middle East, North Africa, and Greater Arabia   \n",
       "2      Afghanistan  1903  Middle East, North Africa, and Greater Arabia   \n",
       "3      Afghanistan  1904  Middle East, North Africa, and Greater Arabia   \n",
       "4      Afghanistan  1905  Middle East, North Africa, and Greater Arabia   \n",
       "...            ...   ...                                            ...   \n",
       "21418     Zimbabwe  2007                             Sub-Saharan Africa   \n",
       "21419     Zimbabwe  2008                             Sub-Saharan Africa   \n",
       "21420     Zimbabwe  2009                             Sub-Saharan Africa   \n",
       "21421     Zimbabwe  2010                             Sub-Saharan Africa   \n",
       "21422     Zimbabwe  2011                             Sub-Saharan Africa   \n",
       "\n",
       "        Gdp_pp  \n",
       "0      613.990  \n",
       "1      616.000  \n",
       "2      618.010  \n",
       "3      620.020  \n",
       "4      622.030  \n",
       "...        ...  \n",
       "21418  521.402  \n",
       "21419  522.634  \n",
       "21420  523.866  \n",
       "21421  525.098  \n",
       "21422  526.330  \n",
       "\n",
       "[21423 rows x 4 columns]"
      ]
     },
     "execution_count": 320,
     "metadata": {},
     "output_type": "execute_result"
    }
   ],
   "source": [
    "# dataframe final com dados estimatimados dos anos ausentes\n",
    "df_com_estimativas"
   ]
  },
  {
   "cell_type": "markdown",
   "id": "1c1d847f",
   "metadata": {},
   "source": [
    "## dataviz"
   ]
  },
  {
   "cell_type": "code",
   "execution_count": 343,
   "id": "7e0caa27",
   "metadata": {},
   "outputs": [],
   "source": [
    "# libs\n",
    "import matplotlib.pyplot as plt\n",
    "import seaborn as sns\n"
   ]
  },
  {
   "cell_type": "code",
   "execution_count": 344,
   "id": "b9ff99fc",
   "metadata": {},
   "outputs": [
    {
     "data": {
      "text/html": [
       "<div>\n",
       "<style scoped>\n",
       "    .dataframe tbody tr th:only-of-type {\n",
       "        vertical-align: middle;\n",
       "    }\n",
       "\n",
       "    .dataframe tbody tr th {\n",
       "        vertical-align: top;\n",
       "    }\n",
       "\n",
       "    .dataframe thead th {\n",
       "        text-align: right;\n",
       "    }\n",
       "</style>\n",
       "<table border=\"1\" class=\"dataframe\">\n",
       "  <thead>\n",
       "    <tr style=\"text-align: right;\">\n",
       "      <th></th>\n",
       "      <th>Country</th>\n",
       "      <th>Year</th>\n",
       "      <th>Region</th>\n",
       "      <th>Gdp_pp</th>\n",
       "    </tr>\n",
       "  </thead>\n",
       "  <tbody>\n",
       "    <tr>\n",
       "      <th>0</th>\n",
       "      <td>Afghanistan</td>\n",
       "      <td>1901</td>\n",
       "      <td>Middle East, North Africa, and Greater Arabia</td>\n",
       "      <td>613.990</td>\n",
       "    </tr>\n",
       "    <tr>\n",
       "      <th>1</th>\n",
       "      <td>Afghanistan</td>\n",
       "      <td>1902</td>\n",
       "      <td>Middle East, North Africa, and Greater Arabia</td>\n",
       "      <td>616.000</td>\n",
       "    </tr>\n",
       "    <tr>\n",
       "      <th>2</th>\n",
       "      <td>Afghanistan</td>\n",
       "      <td>1903</td>\n",
       "      <td>Middle East, North Africa, and Greater Arabia</td>\n",
       "      <td>618.010</td>\n",
       "    </tr>\n",
       "    <tr>\n",
       "      <th>3</th>\n",
       "      <td>Afghanistan</td>\n",
       "      <td>1904</td>\n",
       "      <td>Middle East, North Africa, and Greater Arabia</td>\n",
       "      <td>620.020</td>\n",
       "    </tr>\n",
       "    <tr>\n",
       "      <th>4</th>\n",
       "      <td>Afghanistan</td>\n",
       "      <td>1905</td>\n",
       "      <td>Middle East, North Africa, and Greater Arabia</td>\n",
       "      <td>622.030</td>\n",
       "    </tr>\n",
       "    <tr>\n",
       "      <th>...</th>\n",
       "      <td>...</td>\n",
       "      <td>...</td>\n",
       "      <td>...</td>\n",
       "      <td>...</td>\n",
       "    </tr>\n",
       "    <tr>\n",
       "      <th>21418</th>\n",
       "      <td>Zimbabwe</td>\n",
       "      <td>2007</td>\n",
       "      <td>Sub-Saharan Africa</td>\n",
       "      <td>521.402</td>\n",
       "    </tr>\n",
       "    <tr>\n",
       "      <th>21419</th>\n",
       "      <td>Zimbabwe</td>\n",
       "      <td>2008</td>\n",
       "      <td>Sub-Saharan Africa</td>\n",
       "      <td>522.634</td>\n",
       "    </tr>\n",
       "    <tr>\n",
       "      <th>21420</th>\n",
       "      <td>Zimbabwe</td>\n",
       "      <td>2009</td>\n",
       "      <td>Sub-Saharan Africa</td>\n",
       "      <td>523.866</td>\n",
       "    </tr>\n",
       "    <tr>\n",
       "      <th>21421</th>\n",
       "      <td>Zimbabwe</td>\n",
       "      <td>2010</td>\n",
       "      <td>Sub-Saharan Africa</td>\n",
       "      <td>525.098</td>\n",
       "    </tr>\n",
       "    <tr>\n",
       "      <th>21422</th>\n",
       "      <td>Zimbabwe</td>\n",
       "      <td>2011</td>\n",
       "      <td>Sub-Saharan Africa</td>\n",
       "      <td>526.330</td>\n",
       "    </tr>\n",
       "  </tbody>\n",
       "</table>\n",
       "<p>21423 rows × 4 columns</p>\n",
       "</div>"
      ],
      "text/plain": [
       "           Country  Year                                         Region  \\\n",
       "0      Afghanistan  1901  Middle East, North Africa, and Greater Arabia   \n",
       "1      Afghanistan  1902  Middle East, North Africa, and Greater Arabia   \n",
       "2      Afghanistan  1903  Middle East, North Africa, and Greater Arabia   \n",
       "3      Afghanistan  1904  Middle East, North Africa, and Greater Arabia   \n",
       "4      Afghanistan  1905  Middle East, North Africa, and Greater Arabia   \n",
       "...            ...   ...                                            ...   \n",
       "21418     Zimbabwe  2007                             Sub-Saharan Africa   \n",
       "21419     Zimbabwe  2008                             Sub-Saharan Africa   \n",
       "21420     Zimbabwe  2009                             Sub-Saharan Africa   \n",
       "21421     Zimbabwe  2010                             Sub-Saharan Africa   \n",
       "21422     Zimbabwe  2011                             Sub-Saharan Africa   \n",
       "\n",
       "        Gdp_pp  \n",
       "0      613.990  \n",
       "1      616.000  \n",
       "2      618.010  \n",
       "3      620.020  \n",
       "4      622.030  \n",
       "...        ...  \n",
       "21418  521.402  \n",
       "21419  522.634  \n",
       "21420  523.866  \n",
       "21421  525.098  \n",
       "21422  526.330  \n",
       "\n",
       "[21423 rows x 4 columns]"
      ]
     },
     "execution_count": 344,
     "metadata": {},
     "output_type": "execute_result"
    }
   ],
   "source": [
    "df_com_estimativas"
   ]
  },
  {
   "cell_type": "code",
   "execution_count": 336,
   "id": "f7254190",
   "metadata": {},
   "outputs": [
    {
     "data": {
      "image/png": "[encoded data removed]",
      "text/plain": [
       "<Figure size 1000x600 with 1 Axes>"
      ]
     },
     "metadata": {},
     "output_type": "display_data"
    }
   ],
   "source": [
    "# renda por regiao\n",
    "plt.figure(figsize=(10, 6))\n",
    "sns.barplot(y='Region',x='Gdp_pp', data=df_com_estimativas)\n",
    "plt.title('Renda per capita por região')\n",
    "plt.show()"
   ]
  },
  {
   "cell_type": "code",
   "execution_count": 341,
   "id": "048843e8",
   "metadata": {},
   "outputs": [
    {
     "data": {
      "image/png": "[encoded data removed]",
      "text/plain": [
       "<Figure size 1000x600 with 1 Axes>"
      ]
     },
     "metadata": {},
     "output_type": "display_data"
    }
   ],
   "source": [
    "# south america\n",
    "plt.figure(figsize=(10,6))\n",
    "sns.scatterplot(data=df_com_estimativas.query('Region == \"South America\"'),x='Country',y='Gdp_pp',)\n",
    "plt.show()"
   ]
  },
  {
   "cell_type": "code",
   "execution_count": 322,
   "id": "cea4aa1a",
   "metadata": {},
   "outputs": [
    {
     "name": "stderr",
     "output_type": "stream",
     "text": [
      "/home/escova/anaconda3/lib/python3.11/site-packages/seaborn/_oldcore.py:1119: FutureWarning: use_inf_as_na option is deprecated and will be removed in a future version. Convert inf values to NaN before operating instead.\n",
      "  with pd.option_context('mode.use_inf_as_na', True):\n",
      "/home/escova/anaconda3/lib/python3.11/site-packages/seaborn/_oldcore.py:1119: FutureWarning: use_inf_as_na option is deprecated and will be removed in a future version. Convert inf values to NaN before operating instead.\n",
      "  with pd.option_context('mode.use_inf_as_na', True):\n"
     ]
    },
    {
     "data": {
      "image/png": "[encoded data removed]",
      "text/plain": [
       "<Figure size 1000x600 with 1 Axes>"
      ]
     },
     "metadata": {},
     "output_type": "display_data"
    }
   ],
   "source": [
    "# brasil x argentina\n",
    "plt.figure(figsize=(10, 6))\n",
    "sns.lineplot(\n",
    "    data=df_com_estimativas.query('(Country == \"Brazil\") or (Country == \"Argentina\")'), \n",
    "    y='Gdp_pp', \n",
    "    x='Year',\n",
    "    hue='Country'\n",
    ")\n",
    "plt.title('PIB per capita: Brasil x Argentina')\n",
    "plt.show()"
   ]
  },
  {
   "cell_type": "code",
   "execution_count": 362,
   "id": "040436fb",
   "metadata": {},
   "outputs": [
    {
     "name": "stderr",
     "output_type": "stream",
     "text": [
      "/home/escova/anaconda3/lib/python3.11/site-packages/seaborn/_oldcore.py:1119: FutureWarning: use_inf_as_na option is deprecated and will be removed in a future version. Convert inf values to NaN before operating instead.\n",
      "  with pd.option_context('mode.use_inf_as_na', True):\n",
      "/home/escova/anaconda3/lib/python3.11/site-packages/seaborn/_oldcore.py:1119: FutureWarning: use_inf_as_na option is deprecated and will be removed in a future version. Convert inf values to NaN before operating instead.\n",
      "  with pd.option_context('mode.use_inf_as_na', True):\n"
     ]
    },
    {
     "data": {
      "image/png": "[encoded data removed]",
      "text/plain": [
       "<Figure size 1500x800 with 1 Axes>"
      ]
     },
     "metadata": {},
     "output_type": "display_data"
    }
   ],
   "source": [
    "# br x arg x usa\n",
    "plt.figure(figsize=(15,8))\n",
    "sns.lineplot(data=df_com_estimativas.query('Country == \"Argentina\" or Country ==\"United States\" or Country==\"Brazil\"'), x='Year', y='Gdp_pp', hue='Country')\n",
    "plt.title('Argentina x Brasil x USA')\n",
    "plt.show()"
   ]
  },
  {
   "cell_type": "code",
   "execution_count": 363,
   "id": "1fe26118",
   "metadata": {},
   "outputs": [],
   "source": [
    "# bloco merge \n",
    "# a = pd.merge(\n",
    "#     pd.DataFrame(\n",
    "#         index = pd.MultiIndex.from_product([\n",
    "#             df['Country'].unique(),\n",
    "#             list(range(1901,2012))            \n",
    "#         ], names=['Country', 'Year'])\n",
    "#     ).reset_index(),\n",
    "#     df,\n",
    "#     on=['Country','Year'],\n",
    "#     how='left'\n",
    "# )\n",
    "# a['Gdp_pp'] = a.groupby('Country')['Gdp_pp'].transform(lambda x: x.interpolate(method='linear'))\n",
    "# a['Region'] = a['Country'].map(df.groupby('Country')['Region'].unique().to_dict())\n",
    "# a['Region'] = a['Region'].apply(lambda x: str(x).replace('[', '').replace(']', '').strip(\"''\"))\n",
    "# a.head(3)"
   ]
  },
  {
   "cell_type": "markdown",
   "id": "4eca977d-371c-4d2e-9e33-d72581f812eb",
   "metadata": {},
   "source": [
    "### 4. Você conseguiria criar um mapa do gdp no mundo ao longo dos anos?"
   ]
  },
  {
   "cell_type": "code",
   "execution_count": null,
   "id": "b04cdbc2",
   "metadata": {},
   "outputs": [],
   "source": []
  }
 ],
 "metadata": {
  "kernelspec": {
   "display_name": "Python 3 (ipykernel)",
   "language": "python",
   "name": "python3"
  },
  "language_info": {
   "codemirror_mode": {
    "name": "ipython",
    "version": 3
   },
   "file_extension": ".py",
   "mimetype": "text/x-python",
   "name": "python",
   "nbconvert_exporter": "python",
   "pygments_lexer": "ipython3",
   "version": "3.11.5"
  }
 },
 "nbformat": 4,
 "nbformat_minor": 5
}
