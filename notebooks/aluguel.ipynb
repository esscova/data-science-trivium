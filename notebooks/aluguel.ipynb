{
 "cells": [
  {
   "cell_type": "markdown",
   "id": "a30449fc",
   "metadata": {},
   "source": [
    "# Análise e tratamento de dados"
   ]
  },
  {
   "cell_type": "markdown",
   "id": "e17f740c",
   "metadata": {},
   "source": [
    "## Data loading"
   ]
  },
  {
   "cell_type": "code",
   "execution_count": 1,
   "id": "f20718d6",
   "metadata": {},
   "outputs": [],
   "source": [
    "import pandas as pd"
   ]
  },
  {
   "cell_type": "code",
   "execution_count": 2,
   "id": "554aabe2",
   "metadata": {},
   "outputs": [],
   "source": [
    "dados = pd.read_csv('../datasets/aluguel.csv',sep=';')"
   ]
  },
  {
   "cell_type": "markdown",
   "id": "4d060067",
   "metadata": {},
   "source": [
    "## Data exploration"
   ]
  },
  {
   "cell_type": "code",
   "execution_count": 3,
   "id": "216dbbe4",
   "metadata": {},
   "outputs": [
    {
     "data": {
      "text/html": [
       "<div>\n",
       "<style scoped>\n",
       "    .dataframe tbody tr th:only-of-type {\n",
       "        vertical-align: middle;\n",
       "    }\n",
       "\n",
       "    .dataframe tbody tr th {\n",
       "        vertical-align: top;\n",
       "    }\n",
       "\n",
       "    .dataframe thead th {\n",
       "        text-align: right;\n",
       "    }\n",
       "</style>\n",
       "<table border=\"1\" class=\"dataframe\">\n",
       "  <thead>\n",
       "    <tr style=\"text-align: right;\">\n",
       "      <th></th>\n",
       "      <th>Tipo</th>\n",
       "      <th>Bairro</th>\n",
       "      <th>Quartos</th>\n",
       "      <th>Vagas</th>\n",
       "      <th>Suites</th>\n",
       "      <th>Area</th>\n",
       "      <th>Valor</th>\n",
       "      <th>Condominio</th>\n",
       "      <th>IPTU</th>\n",
       "    </tr>\n",
       "  </thead>\n",
       "  <tbody>\n",
       "    <tr>\n",
       "      <th>0</th>\n",
       "      <td>Quitinete</td>\n",
       "      <td>Copacabana</td>\n",
       "      <td>1</td>\n",
       "      <td>0</td>\n",
       "      <td>0</td>\n",
       "      <td>40</td>\n",
       "      <td>1700.0</td>\n",
       "      <td>500.0</td>\n",
       "      <td>60.0</td>\n",
       "    </tr>\n",
       "    <tr>\n",
       "      <th>1</th>\n",
       "      <td>Casa</td>\n",
       "      <td>Jardim Botânico</td>\n",
       "      <td>2</td>\n",
       "      <td>0</td>\n",
       "      <td>1</td>\n",
       "      <td>100</td>\n",
       "      <td>7000.0</td>\n",
       "      <td>NaN</td>\n",
       "      <td>NaN</td>\n",
       "    </tr>\n",
       "    <tr>\n",
       "      <th>2</th>\n",
       "      <td>Conjunto Comercial/Sala</td>\n",
       "      <td>Barra da Tijuca</td>\n",
       "      <td>0</td>\n",
       "      <td>4</td>\n",
       "      <td>0</td>\n",
       "      <td>150</td>\n",
       "      <td>5200.0</td>\n",
       "      <td>4020.0</td>\n",
       "      <td>1111.0</td>\n",
       "    </tr>\n",
       "    <tr>\n",
       "      <th>3</th>\n",
       "      <td>Apartamento</td>\n",
       "      <td>Centro</td>\n",
       "      <td>1</td>\n",
       "      <td>0</td>\n",
       "      <td>0</td>\n",
       "      <td>15</td>\n",
       "      <td>800.0</td>\n",
       "      <td>390.0</td>\n",
       "      <td>20.0</td>\n",
       "    </tr>\n",
       "    <tr>\n",
       "      <th>4</th>\n",
       "      <td>Apartamento</td>\n",
       "      <td>Higienópolis</td>\n",
       "      <td>1</td>\n",
       "      <td>0</td>\n",
       "      <td>0</td>\n",
       "      <td>48</td>\n",
       "      <td>800.0</td>\n",
       "      <td>230.0</td>\n",
       "      <td>NaN</td>\n",
       "    </tr>\n",
       "  </tbody>\n",
       "</table>\n",
       "</div>"
      ],
      "text/plain": [
       "                      Tipo           Bairro  Quartos  Vagas  Suites  Area  \\\n",
       "0                Quitinete       Copacabana        1      0       0    40   \n",
       "1                     Casa  Jardim Botânico        2      0       1   100   \n",
       "2  Conjunto Comercial/Sala  Barra da Tijuca        0      4       0   150   \n",
       "3              Apartamento           Centro        1      0       0    15   \n",
       "4              Apartamento     Higienópolis        1      0       0    48   \n",
       "\n",
       "    Valor  Condominio    IPTU  \n",
       "0  1700.0       500.0    60.0  \n",
       "1  7000.0         NaN     NaN  \n",
       "2  5200.0      4020.0  1111.0  \n",
       "3   800.0       390.0    20.0  \n",
       "4   800.0       230.0     NaN  "
      ]
     },
     "execution_count": 3,
     "metadata": {},
     "output_type": "execute_result"
    }
   ],
   "source": [
    "dados.head()"
   ]
  },
  {
   "cell_type": "code",
   "execution_count": 4,
   "id": "e9aa605d",
   "metadata": {},
   "outputs": [
    {
     "name": "stdout",
     "output_type": "stream",
     "text": [
      "<class 'pandas.core.frame.DataFrame'>\n",
      "RangeIndex: 32960 entries, 0 to 32959\n",
      "Data columns (total 9 columns):\n",
      " #   Column      Non-Null Count  Dtype  \n",
      "---  ------      --------------  -----  \n",
      " 0   Tipo        32960 non-null  object \n",
      " 1   Bairro      32960 non-null  object \n",
      " 2   Quartos     32960 non-null  int64  \n",
      " 3   Vagas       32960 non-null  int64  \n",
      " 4   Suites      32960 non-null  int64  \n",
      " 5   Area        32960 non-null  int64  \n",
      " 6   Valor       32943 non-null  float64\n",
      " 7   Condominio  28867 non-null  float64\n",
      " 8   IPTU        22723 non-null  float64\n",
      "dtypes: float64(3), int64(4), object(2)\n",
      "memory usage: 2.3+ MB\n"
     ]
    }
   ],
   "source": [
    "dados.info()"
   ]
  },
  {
   "cell_type": "code",
   "execution_count": 5,
   "id": "a8d125ad",
   "metadata": {},
   "outputs": [
    {
     "data": {
      "text/plain": [
       "Tipo           object\n",
       "Bairro         object\n",
       "Quartos         int64\n",
       "Vagas           int64\n",
       "Suites          int64\n",
       "Area            int64\n",
       "Valor         float64\n",
       "Condominio    float64\n",
       "IPTU          float64\n",
       "dtype: object"
      ]
     },
     "execution_count": 5,
     "metadata": {},
     "output_type": "execute_result"
    }
   ],
   "source": [
    "dados.dtypes"
   ]
  },
  {
   "cell_type": "code",
   "execution_count": 6,
   "id": "caeee3aa",
   "metadata": {},
   "outputs": [
    {
     "data": {
      "text/html": [
       "<div>\n",
       "<style scoped>\n",
       "    .dataframe tbody tr th:only-of-type {\n",
       "        vertical-align: middle;\n",
       "    }\n",
       "\n",
       "    .dataframe tbody tr th {\n",
       "        vertical-align: top;\n",
       "    }\n",
       "\n",
       "    .dataframe thead th {\n",
       "        text-align: right;\n",
       "    }\n",
       "</style>\n",
       "<table border=\"1\" class=\"dataframe\">\n",
       "  <thead>\n",
       "    <tr style=\"text-align: right;\">\n",
       "      <th>Variáveis</th>\n",
       "      <th>Tipos de dados</th>\n",
       "    </tr>\n",
       "  </thead>\n",
       "  <tbody>\n",
       "    <tr>\n",
       "      <th>Tipo</th>\n",
       "      <td>object</td>\n",
       "    </tr>\n",
       "    <tr>\n",
       "      <th>Bairro</th>\n",
       "      <td>object</td>\n",
       "    </tr>\n",
       "    <tr>\n",
       "      <th>Quartos</th>\n",
       "      <td>int64</td>\n",
       "    </tr>\n",
       "    <tr>\n",
       "      <th>Vagas</th>\n",
       "      <td>int64</td>\n",
       "    </tr>\n",
       "    <tr>\n",
       "      <th>Suites</th>\n",
       "      <td>int64</td>\n",
       "    </tr>\n",
       "    <tr>\n",
       "      <th>Area</th>\n",
       "      <td>int64</td>\n",
       "    </tr>\n",
       "    <tr>\n",
       "      <th>Valor</th>\n",
       "      <td>float64</td>\n",
       "    </tr>\n",
       "    <tr>\n",
       "      <th>Condominio</th>\n",
       "      <td>float64</td>\n",
       "    </tr>\n",
       "    <tr>\n",
       "      <th>IPTU</th>\n",
       "      <td>float64</td>\n",
       "    </tr>\n",
       "  </tbody>\n",
       "</table>\n",
       "</div>"
      ],
      "text/plain": [
       "Variáveis  Tipos de dados\n",
       "Tipo               object\n",
       "Bairro             object\n",
       "Quartos             int64\n",
       "Vagas               int64\n",
       "Suites              int64\n",
       "Area                int64\n",
       "Valor             float64\n",
       "Condominio        float64\n",
       "IPTU              float64"
      ]
     },
     "execution_count": 6,
     "metadata": {},
     "output_type": "execute_result"
    }
   ],
   "source": [
    "tipo_de_dados = pd.DataFrame(dados.dtypes, columns=['Tipos de dados'])\n",
    "tipo_de_dados.columns.name='Variáveis'\n",
    "tipo_de_dados"
   ]
  },
  {
   "cell_type": "code",
   "execution_count": 7,
   "id": "bf4e4c39",
   "metadata": {},
   "outputs": [
    {
     "name": "stdout",
     "output_type": "stream",
     "text": [
      "A base de dados possui 32960 (imóveis) com 9 variáveis\n"
     ]
    }
   ],
   "source": [
    "print('A base de dados possui {} (imóveis) com {} variáveis'.format(dados.shape[0], dados.shape[1]))"
   ]
  },
  {
   "cell_type": "code",
   "execution_count": 8,
   "id": "4ea16b6e",
   "metadata": {},
   "outputs": [
    {
     "data": {
      "text/plain": [
       "0                      Quitinete\n",
       "1                           Casa\n",
       "2        Conjunto Comercial/Sala\n",
       "3                    Apartamento\n",
       "4                    Apartamento\n",
       "                  ...           \n",
       "32955                  Quitinete\n",
       "32956                Apartamento\n",
       "32957                Apartamento\n",
       "32958                Apartamento\n",
       "32959    Conjunto Comercial/Sala\n",
       "Name: Tipo, Length: 32960, dtype: object"
      ]
     },
     "execution_count": 8,
     "metadata": {},
     "output_type": "execute_result"
    }
   ],
   "source": [
    "tipo_de_imovel = dados['Tipo']\n",
    "tipo_de_imovel"
   ]
  },
  {
   "cell_type": "code",
   "execution_count": 9,
   "id": "68d7e701",
   "metadata": {},
   "outputs": [],
   "source": [
    "tipo_de_imovel = dados.Tipo.drop_duplicates()"
   ]
  },
  {
   "cell_type": "code",
   "execution_count": 10,
   "id": "ce9db153",
   "metadata": {},
   "outputs": [],
   "source": [
    "tipo_de_imovel = pd.DataFrame(tipo_de_imovel)"
   ]
  },
  {
   "cell_type": "code",
   "execution_count": 11,
   "id": "100503ca",
   "metadata": {},
   "outputs": [
    {
     "data": {
      "text/html": [
       "<div>\n",
       "<style scoped>\n",
       "    .dataframe tbody tr th:only-of-type {\n",
       "        vertical-align: middle;\n",
       "    }\n",
       "\n",
       "    .dataframe tbody tr th {\n",
       "        vertical-align: top;\n",
       "    }\n",
       "\n",
       "    .dataframe thead th {\n",
       "        text-align: right;\n",
       "    }\n",
       "</style>\n",
       "<table border=\"1\" class=\"dataframe\">\n",
       "  <thead>\n",
       "    <tr style=\"text-align: right;\">\n",
       "      <th></th>\n",
       "      <th>Tipo</th>\n",
       "    </tr>\n",
       "  </thead>\n",
       "  <tbody>\n",
       "    <tr>\n",
       "      <th>0</th>\n",
       "      <td>Quitinete</td>\n",
       "    </tr>\n",
       "    <tr>\n",
       "      <th>1</th>\n",
       "      <td>Casa</td>\n",
       "    </tr>\n",
       "    <tr>\n",
       "      <th>2</th>\n",
       "      <td>Conjunto Comercial/Sala</td>\n",
       "    </tr>\n",
       "    <tr>\n",
       "      <th>3</th>\n",
       "      <td>Apartamento</td>\n",
       "    </tr>\n",
       "    <tr>\n",
       "      <th>7</th>\n",
       "      <td>Casa de Condomínio</td>\n",
       "    </tr>\n",
       "    <tr>\n",
       "      <th>16</th>\n",
       "      <td>Prédio Inteiro</td>\n",
       "    </tr>\n",
       "    <tr>\n",
       "      <th>17</th>\n",
       "      <td>Flat</td>\n",
       "    </tr>\n",
       "    <tr>\n",
       "      <th>29</th>\n",
       "      <td>Loja/Salão</td>\n",
       "    </tr>\n",
       "    <tr>\n",
       "      <th>80</th>\n",
       "      <td>Galpão/Depósito/Armazém</td>\n",
       "    </tr>\n",
       "    <tr>\n",
       "      <th>83</th>\n",
       "      <td>Casa Comercial</td>\n",
       "    </tr>\n",
       "    <tr>\n",
       "      <th>117</th>\n",
       "      <td>Casa de Vila</td>\n",
       "    </tr>\n",
       "    <tr>\n",
       "      <th>159</th>\n",
       "      <td>Terreno Padrão</td>\n",
       "    </tr>\n",
       "    <tr>\n",
       "      <th>207</th>\n",
       "      <td>Box/Garagem</td>\n",
       "    </tr>\n",
       "    <tr>\n",
       "      <th>347</th>\n",
       "      <td>Loft</td>\n",
       "    </tr>\n",
       "    <tr>\n",
       "      <th>589</th>\n",
       "      <td>Loja Shopping/ Ct Comercial</td>\n",
       "    </tr>\n",
       "    <tr>\n",
       "      <th>2157</th>\n",
       "      <td>Chácara</td>\n",
       "    </tr>\n",
       "    <tr>\n",
       "      <th>3354</th>\n",
       "      <td>Loteamento/Condomínio</td>\n",
       "    </tr>\n",
       "    <tr>\n",
       "      <th>4379</th>\n",
       "      <td>Sítio</td>\n",
       "    </tr>\n",
       "    <tr>\n",
       "      <th>4721</th>\n",
       "      <td>Pousada/Chalé</td>\n",
       "    </tr>\n",
       "    <tr>\n",
       "      <th>6983</th>\n",
       "      <td>Studio</td>\n",
       "    </tr>\n",
       "    <tr>\n",
       "      <th>9687</th>\n",
       "      <td>Hotel</td>\n",
       "    </tr>\n",
       "    <tr>\n",
       "      <th>23614</th>\n",
       "      <td>Indústria</td>\n",
       "    </tr>\n",
       "  </tbody>\n",
       "</table>\n",
       "</div>"
      ],
      "text/plain": [
       "                              Tipo\n",
       "0                        Quitinete\n",
       "1                             Casa\n",
       "2          Conjunto Comercial/Sala\n",
       "3                      Apartamento\n",
       "7               Casa de Condomínio\n",
       "16                  Prédio Inteiro\n",
       "17                            Flat\n",
       "29                      Loja/Salão\n",
       "80         Galpão/Depósito/Armazém\n",
       "83                  Casa Comercial\n",
       "117                   Casa de Vila\n",
       "159                 Terreno Padrão\n",
       "207                    Box/Garagem\n",
       "347                           Loft\n",
       "589    Loja Shopping/ Ct Comercial\n",
       "2157                       Chácara\n",
       "3354         Loteamento/Condomínio\n",
       "4379                         Sítio\n",
       "4721                 Pousada/Chalé\n",
       "6983                        Studio\n",
       "9687                         Hotel\n",
       "23614                    Indústria"
      ]
     },
     "execution_count": 11,
     "metadata": {},
     "output_type": "execute_result"
    }
   ],
   "source": [
    "tipo_de_imovel"
   ]
  },
  {
   "cell_type": "code",
   "execution_count": 12,
   "id": "124f44da",
   "metadata": {},
   "outputs": [
    {
     "data": {
      "text/plain": [
       "Index([    0,     1,     2,     3,     7,    16,    17,    29,    80,    83,\n",
       "         117,   159,   207,   347,   589,  2157,  3354,  4379,  4721,  6983,\n",
       "        9687, 23614],\n",
       "      dtype='int64')"
      ]
     },
     "execution_count": 12,
     "metadata": {},
     "output_type": "execute_result"
    }
   ],
   "source": [
    "tipo_de_imovel.index"
   ]
  },
  {
   "cell_type": "code",
   "execution_count": 13,
   "id": "08032a9a",
   "metadata": {},
   "outputs": [
    {
     "data": {
      "text/plain": [
       "22"
      ]
     },
     "execution_count": 13,
     "metadata": {},
     "output_type": "execute_result"
    }
   ],
   "source": [
    "tipo_de_imovel.shape[0]"
   ]
  },
  {
   "cell_type": "code",
   "execution_count": 14,
   "id": "dd6a06cc",
   "metadata": {},
   "outputs": [
    {
     "name": "stdout",
     "output_type": "stream",
     "text": [
      "0\n",
      "1\n",
      "2\n",
      "3\n",
      "4\n",
      "5\n",
      "6\n",
      "7\n",
      "8\n",
      "9\n",
      "10\n",
      "11\n",
      "12\n",
      "13\n",
      "14\n",
      "15\n",
      "16\n",
      "17\n",
      "18\n",
      "19\n",
      "20\n",
      "21\n"
     ]
    }
   ],
   "source": [
    "for i in range(tipo_de_imovel.shape[0]):\n",
    "    print(i)"
   ]
  },
  {
   "cell_type": "code",
   "execution_count": 15,
   "id": "e96acc9d",
   "metadata": {},
   "outputs": [
    {
     "data": {
      "text/plain": [
       "RangeIndex(start=0, stop=22, step=1)"
      ]
     },
     "execution_count": 15,
     "metadata": {},
     "output_type": "execute_result"
    }
   ],
   "source": [
    "tipo_de_imovel.index = range(tipo_de_imovel.shape[0])\n",
    "tipo_de_imovel.index"
   ]
  },
  {
   "cell_type": "code",
   "execution_count": 16,
   "id": "fdafeef4",
   "metadata": {},
   "outputs": [
    {
     "data": {
      "text/html": [
       "<div>\n",
       "<style scoped>\n",
       "    .dataframe tbody tr th:only-of-type {\n",
       "        vertical-align: middle;\n",
       "    }\n",
       "\n",
       "    .dataframe tbody tr th {\n",
       "        vertical-align: top;\n",
       "    }\n",
       "\n",
       "    .dataframe thead th {\n",
       "        text-align: right;\n",
       "    }\n",
       "</style>\n",
       "<table border=\"1\" class=\"dataframe\">\n",
       "  <thead>\n",
       "    <tr style=\"text-align: right;\">\n",
       "      <th></th>\n",
       "      <th>Tipo</th>\n",
       "    </tr>\n",
       "  </thead>\n",
       "  <tbody>\n",
       "    <tr>\n",
       "      <th>0</th>\n",
       "      <td>Quitinete</td>\n",
       "    </tr>\n",
       "    <tr>\n",
       "      <th>1</th>\n",
       "      <td>Casa</td>\n",
       "    </tr>\n",
       "    <tr>\n",
       "      <th>2</th>\n",
       "      <td>Conjunto Comercial/Sala</td>\n",
       "    </tr>\n",
       "    <tr>\n",
       "      <th>3</th>\n",
       "      <td>Apartamento</td>\n",
       "    </tr>\n",
       "    <tr>\n",
       "      <th>4</th>\n",
       "      <td>Casa de Condomínio</td>\n",
       "    </tr>\n",
       "    <tr>\n",
       "      <th>5</th>\n",
       "      <td>Prédio Inteiro</td>\n",
       "    </tr>\n",
       "    <tr>\n",
       "      <th>6</th>\n",
       "      <td>Flat</td>\n",
       "    </tr>\n",
       "    <tr>\n",
       "      <th>7</th>\n",
       "      <td>Loja/Salão</td>\n",
       "    </tr>\n",
       "    <tr>\n",
       "      <th>8</th>\n",
       "      <td>Galpão/Depósito/Armazém</td>\n",
       "    </tr>\n",
       "    <tr>\n",
       "      <th>9</th>\n",
       "      <td>Casa Comercial</td>\n",
       "    </tr>\n",
       "    <tr>\n",
       "      <th>10</th>\n",
       "      <td>Casa de Vila</td>\n",
       "    </tr>\n",
       "    <tr>\n",
       "      <th>11</th>\n",
       "      <td>Terreno Padrão</td>\n",
       "    </tr>\n",
       "    <tr>\n",
       "      <th>12</th>\n",
       "      <td>Box/Garagem</td>\n",
       "    </tr>\n",
       "    <tr>\n",
       "      <th>13</th>\n",
       "      <td>Loft</td>\n",
       "    </tr>\n",
       "    <tr>\n",
       "      <th>14</th>\n",
       "      <td>Loja Shopping/ Ct Comercial</td>\n",
       "    </tr>\n",
       "    <tr>\n",
       "      <th>15</th>\n",
       "      <td>Chácara</td>\n",
       "    </tr>\n",
       "    <tr>\n",
       "      <th>16</th>\n",
       "      <td>Loteamento/Condomínio</td>\n",
       "    </tr>\n",
       "    <tr>\n",
       "      <th>17</th>\n",
       "      <td>Sítio</td>\n",
       "    </tr>\n",
       "    <tr>\n",
       "      <th>18</th>\n",
       "      <td>Pousada/Chalé</td>\n",
       "    </tr>\n",
       "    <tr>\n",
       "      <th>19</th>\n",
       "      <td>Studio</td>\n",
       "    </tr>\n",
       "    <tr>\n",
       "      <th>20</th>\n",
       "      <td>Hotel</td>\n",
       "    </tr>\n",
       "    <tr>\n",
       "      <th>21</th>\n",
       "      <td>Indústria</td>\n",
       "    </tr>\n",
       "  </tbody>\n",
       "</table>\n",
       "</div>"
      ],
      "text/plain": [
       "                           Tipo\n",
       "0                     Quitinete\n",
       "1                          Casa\n",
       "2       Conjunto Comercial/Sala\n",
       "3                   Apartamento\n",
       "4            Casa de Condomínio\n",
       "5                Prédio Inteiro\n",
       "6                          Flat\n",
       "7                    Loja/Salão\n",
       "8       Galpão/Depósito/Armazém\n",
       "9                Casa Comercial\n",
       "10                 Casa de Vila\n",
       "11               Terreno Padrão\n",
       "12                  Box/Garagem\n",
       "13                         Loft\n",
       "14  Loja Shopping/ Ct Comercial\n",
       "15                      Chácara\n",
       "16        Loteamento/Condomínio\n",
       "17                        Sítio\n",
       "18                Pousada/Chalé\n",
       "19                       Studio\n",
       "20                        Hotel\n",
       "21                    Indústria"
      ]
     },
     "execution_count": 16,
     "metadata": {},
     "output_type": "execute_result"
    }
   ],
   "source": [
    "tipo_de_imovel"
   ]
  },
  {
   "cell_type": "code",
   "execution_count": 17,
   "id": "ade44d20",
   "metadata": {},
   "outputs": [
    {
     "data": {
      "text/html": [
       "<div>\n",
       "<style scoped>\n",
       "    .dataframe tbody tr th:only-of-type {\n",
       "        vertical-align: middle;\n",
       "    }\n",
       "\n",
       "    .dataframe tbody tr th {\n",
       "        vertical-align: top;\n",
       "    }\n",
       "\n",
       "    .dataframe thead th {\n",
       "        text-align: right;\n",
       "    }\n",
       "</style>\n",
       "<table border=\"1\" class=\"dataframe\">\n",
       "  <thead>\n",
       "    <tr style=\"text-align: right;\">\n",
       "      <th>Id</th>\n",
       "      <th>Tipo</th>\n",
       "    </tr>\n",
       "  </thead>\n",
       "  <tbody>\n",
       "    <tr>\n",
       "      <th>0</th>\n",
       "      <td>Quitinete</td>\n",
       "    </tr>\n",
       "    <tr>\n",
       "      <th>1</th>\n",
       "      <td>Casa</td>\n",
       "    </tr>\n",
       "    <tr>\n",
       "      <th>2</th>\n",
       "      <td>Conjunto Comercial/Sala</td>\n",
       "    </tr>\n",
       "    <tr>\n",
       "      <th>3</th>\n",
       "      <td>Apartamento</td>\n",
       "    </tr>\n",
       "    <tr>\n",
       "      <th>4</th>\n",
       "      <td>Casa de Condomínio</td>\n",
       "    </tr>\n",
       "    <tr>\n",
       "      <th>5</th>\n",
       "      <td>Prédio Inteiro</td>\n",
       "    </tr>\n",
       "    <tr>\n",
       "      <th>6</th>\n",
       "      <td>Flat</td>\n",
       "    </tr>\n",
       "    <tr>\n",
       "      <th>7</th>\n",
       "      <td>Loja/Salão</td>\n",
       "    </tr>\n",
       "    <tr>\n",
       "      <th>8</th>\n",
       "      <td>Galpão/Depósito/Armazém</td>\n",
       "    </tr>\n",
       "    <tr>\n",
       "      <th>9</th>\n",
       "      <td>Casa Comercial</td>\n",
       "    </tr>\n",
       "    <tr>\n",
       "      <th>10</th>\n",
       "      <td>Casa de Vila</td>\n",
       "    </tr>\n",
       "    <tr>\n",
       "      <th>11</th>\n",
       "      <td>Terreno Padrão</td>\n",
       "    </tr>\n",
       "    <tr>\n",
       "      <th>12</th>\n",
       "      <td>Box/Garagem</td>\n",
       "    </tr>\n",
       "    <tr>\n",
       "      <th>13</th>\n",
       "      <td>Loft</td>\n",
       "    </tr>\n",
       "    <tr>\n",
       "      <th>14</th>\n",
       "      <td>Loja Shopping/ Ct Comercial</td>\n",
       "    </tr>\n",
       "    <tr>\n",
       "      <th>15</th>\n",
       "      <td>Chácara</td>\n",
       "    </tr>\n",
       "    <tr>\n",
       "      <th>16</th>\n",
       "      <td>Loteamento/Condomínio</td>\n",
       "    </tr>\n",
       "    <tr>\n",
       "      <th>17</th>\n",
       "      <td>Sítio</td>\n",
       "    </tr>\n",
       "    <tr>\n",
       "      <th>18</th>\n",
       "      <td>Pousada/Chalé</td>\n",
       "    </tr>\n",
       "    <tr>\n",
       "      <th>19</th>\n",
       "      <td>Studio</td>\n",
       "    </tr>\n",
       "    <tr>\n",
       "      <th>20</th>\n",
       "      <td>Hotel</td>\n",
       "    </tr>\n",
       "    <tr>\n",
       "      <th>21</th>\n",
       "      <td>Indústria</td>\n",
       "    </tr>\n",
       "  </tbody>\n",
       "</table>\n",
       "</div>"
      ],
      "text/plain": [
       "Id                         Tipo\n",
       "0                     Quitinete\n",
       "1                          Casa\n",
       "2       Conjunto Comercial/Sala\n",
       "3                   Apartamento\n",
       "4            Casa de Condomínio\n",
       "5                Prédio Inteiro\n",
       "6                          Flat\n",
       "7                    Loja/Salão\n",
       "8       Galpão/Depósito/Armazém\n",
       "9                Casa Comercial\n",
       "10                 Casa de Vila\n",
       "11               Terreno Padrão\n",
       "12                  Box/Garagem\n",
       "13                         Loft\n",
       "14  Loja Shopping/ Ct Comercial\n",
       "15                      Chácara\n",
       "16        Loteamento/Condomínio\n",
       "17                        Sítio\n",
       "18                Pousada/Chalé\n",
       "19                       Studio\n",
       "20                        Hotel\n",
       "21                    Indústria"
      ]
     },
     "execution_count": 17,
     "metadata": {},
     "output_type": "execute_result"
    }
   ],
   "source": [
    "tipo_de_imovel.columns.name = 'Id'\n",
    "tipo_de_imovel"
   ]
  },
  {
   "cell_type": "code",
   "execution_count": 18,
   "id": "7bbaa19b",
   "metadata": {},
   "outputs": [
    {
     "data": {
      "text/plain": [
       "['Quitinete',\n",
       " 'Casa',\n",
       " 'Conjunto Comercial/Sala',\n",
       " 'Apartamento',\n",
       " 'Casa de Condomínio',\n",
       " 'Prédio Inteiro',\n",
       " 'Flat',\n",
       " 'Loja/Salão',\n",
       " 'Galpão/Depósito/Armazém',\n",
       " 'Casa Comercial',\n",
       " 'Casa de Vila',\n",
       " 'Terreno Padrão',\n",
       " 'Box/Garagem',\n",
       " 'Loft',\n",
       " 'Loja Shopping/ Ct Comercial',\n",
       " 'Chácara',\n",
       " 'Loteamento/Condomínio',\n",
       " 'Sítio',\n",
       " 'Pousada/Chalé',\n",
       " 'Studio',\n",
       " 'Hotel',\n",
       " 'Indústria']"
      ]
     },
     "execution_count": 18,
     "metadata": {},
     "output_type": "execute_result"
    }
   ],
   "source": [
    "list(dados.Tipo.drop_duplicates())"
   ]
  },
  {
   "cell_type": "code",
   "execution_count": 19,
   "id": "9e97f641",
   "metadata": {},
   "outputs": [
    {
     "data": {
      "text/plain": [
       "['Quitinete', 'Casa', 'Apartamento', 'Casa de Condomínio', 'Casa de Vila']"
      ]
     },
     "execution_count": 19,
     "metadata": {},
     "output_type": "execute_result"
    }
   ],
   "source": [
    "residencial = ['Quitinete',\n",
    " 'Casa',\n",
    " 'Apartamento',\n",
    " 'Casa de Condomínio',\n",
    " 'Casa de Vila']\n",
    "\n",
    "residencial"
   ]
  },
  {
   "cell_type": "code",
   "execution_count": 20,
   "id": "270ea00c",
   "metadata": {},
   "outputs": [
    {
     "data": {
      "text/html": [
       "<div>\n",
       "<style scoped>\n",
       "    .dataframe tbody tr th:only-of-type {\n",
       "        vertical-align: middle;\n",
       "    }\n",
       "\n",
       "    .dataframe tbody tr th {\n",
       "        vertical-align: top;\n",
       "    }\n",
       "\n",
       "    .dataframe thead th {\n",
       "        text-align: right;\n",
       "    }\n",
       "</style>\n",
       "<table border=\"1\" class=\"dataframe\">\n",
       "  <thead>\n",
       "    <tr style=\"text-align: right;\">\n",
       "      <th></th>\n",
       "      <th>Tipo</th>\n",
       "      <th>Bairro</th>\n",
       "      <th>Quartos</th>\n",
       "      <th>Vagas</th>\n",
       "      <th>Suites</th>\n",
       "      <th>Area</th>\n",
       "      <th>Valor</th>\n",
       "      <th>Condominio</th>\n",
       "      <th>IPTU</th>\n",
       "    </tr>\n",
       "  </thead>\n",
       "  <tbody>\n",
       "    <tr>\n",
       "      <th>0</th>\n",
       "      <td>Quitinete</td>\n",
       "      <td>Copacabana</td>\n",
       "      <td>1</td>\n",
       "      <td>0</td>\n",
       "      <td>0</td>\n",
       "      <td>40</td>\n",
       "      <td>1700.0</td>\n",
       "      <td>500.0</td>\n",
       "      <td>60.0</td>\n",
       "    </tr>\n",
       "    <tr>\n",
       "      <th>1</th>\n",
       "      <td>Casa</td>\n",
       "      <td>Jardim Botânico</td>\n",
       "      <td>2</td>\n",
       "      <td>0</td>\n",
       "      <td>1</td>\n",
       "      <td>100</td>\n",
       "      <td>7000.0</td>\n",
       "      <td>NaN</td>\n",
       "      <td>NaN</td>\n",
       "    </tr>\n",
       "    <tr>\n",
       "      <th>2</th>\n",
       "      <td>Conjunto Comercial/Sala</td>\n",
       "      <td>Barra da Tijuca</td>\n",
       "      <td>0</td>\n",
       "      <td>4</td>\n",
       "      <td>0</td>\n",
       "      <td>150</td>\n",
       "      <td>5200.0</td>\n",
       "      <td>4020.0</td>\n",
       "      <td>1111.0</td>\n",
       "    </tr>\n",
       "    <tr>\n",
       "      <th>3</th>\n",
       "      <td>Apartamento</td>\n",
       "      <td>Centro</td>\n",
       "      <td>1</td>\n",
       "      <td>0</td>\n",
       "      <td>0</td>\n",
       "      <td>15</td>\n",
       "      <td>800.0</td>\n",
       "      <td>390.0</td>\n",
       "      <td>20.0</td>\n",
       "    </tr>\n",
       "    <tr>\n",
       "      <th>4</th>\n",
       "      <td>Apartamento</td>\n",
       "      <td>Higienópolis</td>\n",
       "      <td>1</td>\n",
       "      <td>0</td>\n",
       "      <td>0</td>\n",
       "      <td>48</td>\n",
       "      <td>800.0</td>\n",
       "      <td>230.0</td>\n",
       "      <td>NaN</td>\n",
       "    </tr>\n",
       "  </tbody>\n",
       "</table>\n",
       "</div>"
      ],
      "text/plain": [
       "                      Tipo           Bairro  Quartos  Vagas  Suites  Area  \\\n",
       "0                Quitinete       Copacabana        1      0       0    40   \n",
       "1                     Casa  Jardim Botânico        2      0       1   100   \n",
       "2  Conjunto Comercial/Sala  Barra da Tijuca        0      4       0   150   \n",
       "3              Apartamento           Centro        1      0       0    15   \n",
       "4              Apartamento     Higienópolis        1      0       0    48   \n",
       "\n",
       "    Valor  Condominio    IPTU  \n",
       "0  1700.0       500.0    60.0  \n",
       "1  7000.0         NaN     NaN  \n",
       "2  5200.0      4020.0  1111.0  \n",
       "3   800.0       390.0    20.0  \n",
       "4   800.0       230.0     NaN  "
      ]
     },
     "execution_count": 20,
     "metadata": {},
     "output_type": "execute_result"
    }
   ],
   "source": [
    "dados.head()"
   ]
  },
  {
   "cell_type": "code",
   "execution_count": 21,
   "id": "95177a49",
   "metadata": {},
   "outputs": [
    {
     "data": {
      "text/plain": [
       "0     True\n",
       "1     True\n",
       "2    False\n",
       "3     True\n",
       "4     True\n",
       "Name: Tipo, dtype: bool"
      ]
     },
     "execution_count": 21,
     "metadata": {},
     "output_type": "execute_result"
    }
   ],
   "source": [
    "dados['Tipo'].isin(residencial).head()"
   ]
  },
  {
   "cell_type": "code",
   "execution_count": 22,
   "id": "b452241f",
   "metadata": {},
   "outputs": [
    {
     "data": {
      "text/plain": [
       "0         True\n",
       "1         True\n",
       "2        False\n",
       "3         True\n",
       "4         True\n",
       "         ...  \n",
       "32955     True\n",
       "32956     True\n",
       "32957     True\n",
       "32958     True\n",
       "32959    False\n",
       "Name: Tipo, Length: 32960, dtype: bool"
      ]
     },
     "execution_count": 22,
     "metadata": {},
     "output_type": "execute_result"
    }
   ],
   "source": [
    "selecao = dados['Tipo'].isin(residencial)\n",
    "selecao"
   ]
  },
  {
   "cell_type": "code",
   "execution_count": 23,
   "id": "86404900",
   "metadata": {},
   "outputs": [
    {
     "data": {
      "text/html": [
       "<div>\n",
       "<style scoped>\n",
       "    .dataframe tbody tr th:only-of-type {\n",
       "        vertical-align: middle;\n",
       "    }\n",
       "\n",
       "    .dataframe tbody tr th {\n",
       "        vertical-align: top;\n",
       "    }\n",
       "\n",
       "    .dataframe thead th {\n",
       "        text-align: right;\n",
       "    }\n",
       "</style>\n",
       "<table border=\"1\" class=\"dataframe\">\n",
       "  <thead>\n",
       "    <tr style=\"text-align: right;\">\n",
       "      <th></th>\n",
       "      <th>Tipo</th>\n",
       "      <th>Bairro</th>\n",
       "      <th>Quartos</th>\n",
       "      <th>Vagas</th>\n",
       "      <th>Suites</th>\n",
       "      <th>Area</th>\n",
       "      <th>Valor</th>\n",
       "      <th>Condominio</th>\n",
       "      <th>IPTU</th>\n",
       "    </tr>\n",
       "  </thead>\n",
       "  <tbody>\n",
       "    <tr>\n",
       "      <th>0</th>\n",
       "      <td>Quitinete</td>\n",
       "      <td>Copacabana</td>\n",
       "      <td>1</td>\n",
       "      <td>0</td>\n",
       "      <td>0</td>\n",
       "      <td>40</td>\n",
       "      <td>1700.0</td>\n",
       "      <td>500.0</td>\n",
       "      <td>60.0</td>\n",
       "    </tr>\n",
       "    <tr>\n",
       "      <th>1</th>\n",
       "      <td>Casa</td>\n",
       "      <td>Jardim Botânico</td>\n",
       "      <td>2</td>\n",
       "      <td>0</td>\n",
       "      <td>1</td>\n",
       "      <td>100</td>\n",
       "      <td>7000.0</td>\n",
       "      <td>NaN</td>\n",
       "      <td>NaN</td>\n",
       "    </tr>\n",
       "    <tr>\n",
       "      <th>3</th>\n",
       "      <td>Apartamento</td>\n",
       "      <td>Centro</td>\n",
       "      <td>1</td>\n",
       "      <td>0</td>\n",
       "      <td>0</td>\n",
       "      <td>15</td>\n",
       "      <td>800.0</td>\n",
       "      <td>390.0</td>\n",
       "      <td>20.0</td>\n",
       "    </tr>\n",
       "    <tr>\n",
       "      <th>4</th>\n",
       "      <td>Apartamento</td>\n",
       "      <td>Higienópolis</td>\n",
       "      <td>1</td>\n",
       "      <td>0</td>\n",
       "      <td>0</td>\n",
       "      <td>48</td>\n",
       "      <td>800.0</td>\n",
       "      <td>230.0</td>\n",
       "      <td>NaN</td>\n",
       "    </tr>\n",
       "    <tr>\n",
       "      <th>5</th>\n",
       "      <td>Apartamento</td>\n",
       "      <td>Vista Alegre</td>\n",
       "      <td>3</td>\n",
       "      <td>1</td>\n",
       "      <td>0</td>\n",
       "      <td>70</td>\n",
       "      <td>1200.0</td>\n",
       "      <td>NaN</td>\n",
       "      <td>NaN</td>\n",
       "    </tr>\n",
       "    <tr>\n",
       "      <th>...</th>\n",
       "      <td>...</td>\n",
       "      <td>...</td>\n",
       "      <td>...</td>\n",
       "      <td>...</td>\n",
       "      <td>...</td>\n",
       "      <td>...</td>\n",
       "      <td>...</td>\n",
       "      <td>...</td>\n",
       "      <td>...</td>\n",
       "    </tr>\n",
       "    <tr>\n",
       "      <th>32953</th>\n",
       "      <td>Apartamento</td>\n",
       "      <td>Méier</td>\n",
       "      <td>2</td>\n",
       "      <td>0</td>\n",
       "      <td>0</td>\n",
       "      <td>70</td>\n",
       "      <td>900.0</td>\n",
       "      <td>490.0</td>\n",
       "      <td>48.0</td>\n",
       "    </tr>\n",
       "    <tr>\n",
       "      <th>32955</th>\n",
       "      <td>Quitinete</td>\n",
       "      <td>Centro</td>\n",
       "      <td>0</td>\n",
       "      <td>0</td>\n",
       "      <td>0</td>\n",
       "      <td>27</td>\n",
       "      <td>800.0</td>\n",
       "      <td>350.0</td>\n",
       "      <td>25.0</td>\n",
       "    </tr>\n",
       "    <tr>\n",
       "      <th>32956</th>\n",
       "      <td>Apartamento</td>\n",
       "      <td>Jacarepaguá</td>\n",
       "      <td>3</td>\n",
       "      <td>1</td>\n",
       "      <td>2</td>\n",
       "      <td>78</td>\n",
       "      <td>1800.0</td>\n",
       "      <td>800.0</td>\n",
       "      <td>40.0</td>\n",
       "    </tr>\n",
       "    <tr>\n",
       "      <th>32957</th>\n",
       "      <td>Apartamento</td>\n",
       "      <td>São Francisco Xavier</td>\n",
       "      <td>2</td>\n",
       "      <td>1</td>\n",
       "      <td>0</td>\n",
       "      <td>48</td>\n",
       "      <td>1400.0</td>\n",
       "      <td>509.0</td>\n",
       "      <td>37.0</td>\n",
       "    </tr>\n",
       "    <tr>\n",
       "      <th>32958</th>\n",
       "      <td>Apartamento</td>\n",
       "      <td>Leblon</td>\n",
       "      <td>2</td>\n",
       "      <td>0</td>\n",
       "      <td>0</td>\n",
       "      <td>70</td>\n",
       "      <td>3000.0</td>\n",
       "      <td>760.0</td>\n",
       "      <td>NaN</td>\n",
       "    </tr>\n",
       "  </tbody>\n",
       "</table>\n",
       "<p>22580 rows × 9 columns</p>\n",
       "</div>"
      ],
      "text/plain": [
       "              Tipo                Bairro  Quartos  Vagas  Suites  Area  \\\n",
       "0        Quitinete            Copacabana        1      0       0    40   \n",
       "1             Casa       Jardim Botânico        2      0       1   100   \n",
       "3      Apartamento                Centro        1      0       0    15   \n",
       "4      Apartamento          Higienópolis        1      0       0    48   \n",
       "5      Apartamento          Vista Alegre        3      1       0    70   \n",
       "...            ...                   ...      ...    ...     ...   ...   \n",
       "32953  Apartamento                 Méier        2      0       0    70   \n",
       "32955    Quitinete                Centro        0      0       0    27   \n",
       "32956  Apartamento           Jacarepaguá        3      1       2    78   \n",
       "32957  Apartamento  São Francisco Xavier        2      1       0    48   \n",
       "32958  Apartamento                Leblon        2      0       0    70   \n",
       "\n",
       "        Valor  Condominio  IPTU  \n",
       "0      1700.0       500.0  60.0  \n",
       "1      7000.0         NaN   NaN  \n",
       "3       800.0       390.0  20.0  \n",
       "4       800.0       230.0   NaN  \n",
       "5      1200.0         NaN   NaN  \n",
       "...       ...         ...   ...  \n",
       "32953   900.0       490.0  48.0  \n",
       "32955   800.0       350.0  25.0  \n",
       "32956  1800.0       800.0  40.0  \n",
       "32957  1400.0       509.0  37.0  \n",
       "32958  3000.0       760.0   NaN  \n",
       "\n",
       "[22580 rows x 9 columns]"
      ]
     },
     "execution_count": 23,
     "metadata": {},
     "output_type": "execute_result"
    }
   ],
   "source": [
    "dados_residencial = dados[selecao]\n",
    "dados_residencial"
   ]
  },
  {
   "cell_type": "code",
   "execution_count": 24,
   "id": "c8c8c298",
   "metadata": {},
   "outputs": [
    {
     "data": {
      "text/plain": [
       "['Quitinete', 'Casa', 'Apartamento', 'Casa de Condomínio', 'Casa de Vila']"
      ]
     },
     "execution_count": 24,
     "metadata": {},
     "output_type": "execute_result"
    }
   ],
   "source": [
    "list(dados_residencial['Tipo'].drop_duplicates())"
   ]
  },
  {
   "cell_type": "code",
   "execution_count": 25,
   "id": "0b3be8c8",
   "metadata": {},
   "outputs": [
    {
     "data": {
      "text/plain": [
       "(22580,)"
      ]
     },
     "execution_count": 25,
     "metadata": {},
     "output_type": "execute_result"
    }
   ],
   "source": [
    "dados_residencial.Tipo.shape"
   ]
  },
  {
   "cell_type": "code",
   "execution_count": 26,
   "id": "051943f4",
   "metadata": {},
   "outputs": [
    {
     "data": {
      "text/html": [
       "<div>\n",
       "<style scoped>\n",
       "    .dataframe tbody tr th:only-of-type {\n",
       "        vertical-align: middle;\n",
       "    }\n",
       "\n",
       "    .dataframe tbody tr th {\n",
       "        vertical-align: top;\n",
       "    }\n",
       "\n",
       "    .dataframe thead th {\n",
       "        text-align: right;\n",
       "    }\n",
       "</style>\n",
       "<table border=\"1\" class=\"dataframe\">\n",
       "  <thead>\n",
       "    <tr style=\"text-align: right;\">\n",
       "      <th></th>\n",
       "      <th>Tipo</th>\n",
       "      <th>Bairro</th>\n",
       "      <th>Quartos</th>\n",
       "      <th>Vagas</th>\n",
       "      <th>Suites</th>\n",
       "      <th>Area</th>\n",
       "      <th>Valor</th>\n",
       "      <th>Condominio</th>\n",
       "      <th>IPTU</th>\n",
       "    </tr>\n",
       "  </thead>\n",
       "  <tbody>\n",
       "    <tr>\n",
       "      <th>0</th>\n",
       "      <td>Quitinete</td>\n",
       "      <td>Copacabana</td>\n",
       "      <td>1</td>\n",
       "      <td>0</td>\n",
       "      <td>0</td>\n",
       "      <td>40</td>\n",
       "      <td>1700.0</td>\n",
       "      <td>500.0</td>\n",
       "      <td>60.0</td>\n",
       "    </tr>\n",
       "    <tr>\n",
       "      <th>1</th>\n",
       "      <td>Casa</td>\n",
       "      <td>Jardim Botânico</td>\n",
       "      <td>2</td>\n",
       "      <td>0</td>\n",
       "      <td>1</td>\n",
       "      <td>100</td>\n",
       "      <td>7000.0</td>\n",
       "      <td>NaN</td>\n",
       "      <td>NaN</td>\n",
       "    </tr>\n",
       "    <tr>\n",
       "      <th>2</th>\n",
       "      <td>Apartamento</td>\n",
       "      <td>Centro</td>\n",
       "      <td>1</td>\n",
       "      <td>0</td>\n",
       "      <td>0</td>\n",
       "      <td>15</td>\n",
       "      <td>800.0</td>\n",
       "      <td>390.0</td>\n",
       "      <td>20.0</td>\n",
       "    </tr>\n",
       "    <tr>\n",
       "      <th>3</th>\n",
       "      <td>Apartamento</td>\n",
       "      <td>Higienópolis</td>\n",
       "      <td>1</td>\n",
       "      <td>0</td>\n",
       "      <td>0</td>\n",
       "      <td>48</td>\n",
       "      <td>800.0</td>\n",
       "      <td>230.0</td>\n",
       "      <td>NaN</td>\n",
       "    </tr>\n",
       "    <tr>\n",
       "      <th>4</th>\n",
       "      <td>Apartamento</td>\n",
       "      <td>Vista Alegre</td>\n",
       "      <td>3</td>\n",
       "      <td>1</td>\n",
       "      <td>0</td>\n",
       "      <td>70</td>\n",
       "      <td>1200.0</td>\n",
       "      <td>NaN</td>\n",
       "      <td>NaN</td>\n",
       "    </tr>\n",
       "    <tr>\n",
       "      <th>...</th>\n",
       "      <td>...</td>\n",
       "      <td>...</td>\n",
       "      <td>...</td>\n",
       "      <td>...</td>\n",
       "      <td>...</td>\n",
       "      <td>...</td>\n",
       "      <td>...</td>\n",
       "      <td>...</td>\n",
       "      <td>...</td>\n",
       "    </tr>\n",
       "    <tr>\n",
       "      <th>22575</th>\n",
       "      <td>Apartamento</td>\n",
       "      <td>Méier</td>\n",
       "      <td>2</td>\n",
       "      <td>0</td>\n",
       "      <td>0</td>\n",
       "      <td>70</td>\n",
       "      <td>900.0</td>\n",
       "      <td>490.0</td>\n",
       "      <td>48.0</td>\n",
       "    </tr>\n",
       "    <tr>\n",
       "      <th>22576</th>\n",
       "      <td>Quitinete</td>\n",
       "      <td>Centro</td>\n",
       "      <td>0</td>\n",
       "      <td>0</td>\n",
       "      <td>0</td>\n",
       "      <td>27</td>\n",
       "      <td>800.0</td>\n",
       "      <td>350.0</td>\n",
       "      <td>25.0</td>\n",
       "    </tr>\n",
       "    <tr>\n",
       "      <th>22577</th>\n",
       "      <td>Apartamento</td>\n",
       "      <td>Jacarepaguá</td>\n",
       "      <td>3</td>\n",
       "      <td>1</td>\n",
       "      <td>2</td>\n",
       "      <td>78</td>\n",
       "      <td>1800.0</td>\n",
       "      <td>800.0</td>\n",
       "      <td>40.0</td>\n",
       "    </tr>\n",
       "    <tr>\n",
       "      <th>22578</th>\n",
       "      <td>Apartamento</td>\n",
       "      <td>São Francisco Xavier</td>\n",
       "      <td>2</td>\n",
       "      <td>1</td>\n",
       "      <td>0</td>\n",
       "      <td>48</td>\n",
       "      <td>1400.0</td>\n",
       "      <td>509.0</td>\n",
       "      <td>37.0</td>\n",
       "    </tr>\n",
       "    <tr>\n",
       "      <th>22579</th>\n",
       "      <td>Apartamento</td>\n",
       "      <td>Leblon</td>\n",
       "      <td>2</td>\n",
       "      <td>0</td>\n",
       "      <td>0</td>\n",
       "      <td>70</td>\n",
       "      <td>3000.0</td>\n",
       "      <td>760.0</td>\n",
       "      <td>NaN</td>\n",
       "    </tr>\n",
       "  </tbody>\n",
       "</table>\n",
       "<p>22580 rows × 9 columns</p>\n",
       "</div>"
      ],
      "text/plain": [
       "              Tipo                Bairro  Quartos  Vagas  Suites  Area  \\\n",
       "0        Quitinete            Copacabana        1      0       0    40   \n",
       "1             Casa       Jardim Botânico        2      0       1   100   \n",
       "2      Apartamento                Centro        1      0       0    15   \n",
       "3      Apartamento          Higienópolis        1      0       0    48   \n",
       "4      Apartamento          Vista Alegre        3      1       0    70   \n",
       "...            ...                   ...      ...    ...     ...   ...   \n",
       "22575  Apartamento                 Méier        2      0       0    70   \n",
       "22576    Quitinete                Centro        0      0       0    27   \n",
       "22577  Apartamento           Jacarepaguá        3      1       2    78   \n",
       "22578  Apartamento  São Francisco Xavier        2      1       0    48   \n",
       "22579  Apartamento                Leblon        2      0       0    70   \n",
       "\n",
       "        Valor  Condominio  IPTU  \n",
       "0      1700.0       500.0  60.0  \n",
       "1      7000.0         NaN   NaN  \n",
       "2       800.0       390.0  20.0  \n",
       "3       800.0       230.0   NaN  \n",
       "4      1200.0         NaN   NaN  \n",
       "...       ...         ...   ...  \n",
       "22575   900.0       490.0  48.0  \n",
       "22576   800.0       350.0  25.0  \n",
       "22577  1800.0       800.0  40.0  \n",
       "22578  1400.0       509.0  37.0  \n",
       "22579  3000.0       760.0   NaN  \n",
       "\n",
       "[22580 rows x 9 columns]"
      ]
     },
     "execution_count": 26,
     "metadata": {},
     "output_type": "execute_result"
    }
   ],
   "source": [
    "dados_residencial.index = range(dados_residencial.Tipo.shape[0])\n",
    "dados_residencial"
   ]
  },
  {
   "cell_type": "code",
   "execution_count": 27,
   "id": "42e620c5",
   "metadata": {
    "tags": []
   },
   "outputs": [],
   "source": [
    "# export dataframe to csv \n",
    "# dados_residencial.to_csv('../datasets/aluguel_residencial.csv', sep=';', index=False)"
   ]
  },
  {
   "cell_type": "code",
   "execution_count": 37,
   "id": "1a9fa7c1-6e5f-428a-b510-2a4ac3394702",
   "metadata": {
    "tags": []
   },
   "outputs": [
    {
     "data": {
      "text/plain": [
       "19532"
      ]
     },
     "execution_count": 37,
     "metadata": {},
     "output_type": "execute_result"
    }
   ],
   "source": [
    "# frq apart\n",
    "\n",
    "selecao = dados_residencial['Tipo'] == \"Apartamento\"\n",
    "n1 = dados_residencial[selecao].shape[0]\n",
    "n1\n",
    "\n",
    "# dados_residencial.query('Tipo == \"Apartamento\"').shape[0] \n"
   ]
  },
  {
   "cell_type": "code",
   "execution_count": 39,
   "id": "5bdb9345-ff85-4172-a665-5159e13605af",
   "metadata": {
    "tags": []
   },
   "outputs": [
    {
     "data": {
      "text/plain": [
       "2212"
      ]
     },
     "execution_count": 39,
     "metadata": {},
     "output_type": "execute_result"
    }
   ],
   "source": [
    "# frq casa, casa de condominio e casa de vila\n",
    "selecao = (dados_residencial.Tipo == 'Casa') | (dados_residencial.Tipo == 'Casa de Condomínio') | (dados_residencial.Tipo == 'Casa de Vila')\n",
    "n2 = dados_residencial[selecao].shape[0]\n",
    "n2\n",
    "\n",
    "# dados_residencial.query('(Tipo == \"Casa\") | (Tipo == \"Casa de Condomínio\") | (Tipo == \"Casa de Vila\")').shape[0]"
   ]
  },
  {
   "cell_type": "code",
   "execution_count": 46,
   "id": "5ab6bb0a-ffad-469a-9229-13f84d5470e8",
   "metadata": {
    "tags": []
   },
   "outputs": [
    {
     "data": {
      "text/plain": [
       "8719"
      ]
     },
     "execution_count": 46,
     "metadata": {},
     "output_type": "execute_result"
    }
   ],
   "source": [
    "# freq 60 100\n",
    "selecao = (dados_residencial['Area'] >= 60) & (dados_residencial['Area'] <= 100)\n",
    "n3 = dados_residencial[selecao].shape[0]\n",
    "n3\n",
    "\n",
    "# dados_residencial.query('(Area >= 60) & (Area <= 100)').shape[0]"
   ]
  },
  {
   "cell_type": "code",
   "execution_count": 51,
   "id": "2bf493cb-661a-4d2f-b911-61b70c53906f",
   "metadata": {
    "tags": []
   },
   "outputs": [
    {
     "data": {
      "text/plain": [
       "41"
      ]
     },
     "execution_count": 51,
     "metadata": {},
     "output_type": "execute_result"
    }
   ],
   "source": [
    "# freq 4 qrts menor que 2k\n",
    "selecao = (dados_residencial['Quartos'] >= 4) & (dados_residencial['Valor'] < 2000)\n",
    "n4 = dados_residencial[selecao].shape[0]\n",
    "n4\n",
    "# dados_residencial.query('(Quartos >=4) & (Valor<2000)').shape[0]"
   ]
  },
  {
   "cell_type": "code",
   "execution_count": 53,
   "id": "11421602-b335-4592-87eb-5a02c5bfde86",
   "metadata": {
    "tags": []
   },
   "outputs": [
    {
     "name": "stdout",
     "output_type": "stream",
     "text": [
      "\n",
      "Nº de imóveis classificados com tipo 'Apartamento' = 19532\n",
      "Nº de imóveis classificados com tipos 'Casa', 'Casa de Condomínio' e 'Casa de Vila' = 2212\n",
      "Nº de imóveis com área entre 60 e 100 metros quadrados, incluindo os limites = 8719\n",
      "Nº de imóveis que possuem pelo menos 4 quartos e aluguel menor que R$ 2.000,00 = 41\n",
      "\n"
     ]
    }
   ],
   "source": [
    "print(f\"\"\"\n",
    "Nº de imóveis classificados com tipo 'Apartamento' = {n1}\n",
    "Nº de imóveis classificados com tipos 'Casa', 'Casa de Condomínio' e 'Casa de Vila' = {n2}\n",
    "Nº de imóveis com área entre 60 e 100 metros quadrados, incluindo os limites = {n3}\n",
    "Nº de imóveis que possuem pelo menos 4 quartos e aluguel menor que R$ 2.000,00 = {n4}\n",
    "\"\"\"\n",
    ")"
   ]
  },
  {
   "cell_type": "markdown",
   "id": "c7c32eaf",
   "metadata": {},
   "source": [
    "## data insights"
   ]
  },
  {
   "cell_type": "markdown",
   "id": "7e7af807",
   "metadata": {},
   "source": [
    "- Quantos registros possuem a base da dados?\n",
    "- Quais os tipos de dados da base de dados?\n",
    "- Que variáveis possuem os registros?\n",
    "- Quais são os tipos de imóveis?\n",
    "- Quais são os registros de imóveis residenciais?\n",
    "- Selecione somente os imóveis classificados com tipo 'Apartamento'.\n",
    "- Selecione os imóveis classificados com tipos 'Casa', 'Casa de Condomínio' e 'Casa de Vila'.\n",
    "- Selecione os imóveis com área entre 60 e 100 metros quadrados, incluindo os limites.\n",
    "- Selecione os imóveis que tenham pelo menos 4 quartos e aluguel menor que R$ 2.000,00"
   ]
  }
 ],
 "metadata": {
  "kernelspec": {
   "display_name": "Python 3 (ipykernel)",
   "language": "python",
   "name": "python3"
  },
  "language_info": {
   "codemirror_mode": {
    "name": "ipython",
    "version": 3
   },
   "file_extension": ".py",
   "mimetype": "text/x-python",
   "name": "python",
   "nbconvert_exporter": "python",
   "pygments_lexer": "ipython3",
   "version": "3.11.5"
  }
 },
 "nbformat": 4,
 "nbformat_minor": 5
}
